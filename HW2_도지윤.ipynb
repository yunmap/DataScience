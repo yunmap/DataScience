{
 "cells": [
  {
   "cell_type": "markdown",
   "metadata": {},
   "source": [
    "# Homework2 \n",
    "Version 1 (2017-03-24)\n",
    "#### In this assignment, you will learn how to pre-process data, predict values using some simple methods and evaluate the results. "
   ]
  },
  {
   "cell_type": "code",
   "execution_count": 1,
   "metadata": {
    "collapsed": false
   },
   "outputs": [],
   "source": [
    "import pandas as pd\n",
    "import numpy as np\n",
    "import matplotlib.pyplot as plt\n",
    "%matplotlib inline\n",
    "import requests\n",
    "from bs4 import BeautifulSoup"
   ]
  },
  {
   "cell_type": "markdown",
   "metadata": {},
   "source": [
    "### Fetching data from tsv(tab-separated values)\n",
    "We will give you GDP per capita in tsv format.<br>(Gross domestic product per capita, current prices in USD; International Monetary Fund, World Economic Outlook Database, October 2016) \n",
    "<br>\n",
    "<br>What you have to do is read data from tsv, put it in pandas dataframe, manipulate data so that it is ready for analyse."
   ]
  },
  {
   "cell_type": "code",
   "execution_count": 2,
   "metadata": {
    "collapsed": false,
    "scrolled": false
   },
   "outputs": [
    {
     "data": {
      "text/html": [
       "<div>\n",
       "<table border=\"1\" class=\"dataframe\">\n",
       "  <thead>\n",
       "    <tr style=\"text-align: right;\">\n",
       "      <th></th>\n",
       "      <th>Subject Descriptor</th>\n",
       "      <th>Units</th>\n",
       "      <th>Scale</th>\n",
       "      <th>Country/Series-specific Notes</th>\n",
       "      <th>1980</th>\n",
       "      <th>1981</th>\n",
       "      <th>1982</th>\n",
       "      <th>1983</th>\n",
       "      <th>1984</th>\n",
       "      <th>1985</th>\n",
       "      <th>...</th>\n",
       "      <th>2007</th>\n",
       "      <th>2008</th>\n",
       "      <th>2009</th>\n",
       "      <th>2010</th>\n",
       "      <th>2011</th>\n",
       "      <th>2012</th>\n",
       "      <th>2013</th>\n",
       "      <th>2014</th>\n",
       "      <th>2015</th>\n",
       "      <th>Estimates Start After</th>\n",
       "    </tr>\n",
       "    <tr>\n",
       "      <th>Country</th>\n",
       "      <th></th>\n",
       "      <th></th>\n",
       "      <th></th>\n",
       "      <th></th>\n",
       "      <th></th>\n",
       "      <th></th>\n",
       "      <th></th>\n",
       "      <th></th>\n",
       "      <th></th>\n",
       "      <th></th>\n",
       "      <th></th>\n",
       "      <th></th>\n",
       "      <th></th>\n",
       "      <th></th>\n",
       "      <th></th>\n",
       "      <th></th>\n",
       "      <th></th>\n",
       "      <th></th>\n",
       "      <th></th>\n",
       "      <th></th>\n",
       "      <th></th>\n",
       "    </tr>\n",
       "  </thead>\n",
       "  <tbody>\n",
       "    <tr>\n",
       "      <th>Syria</th>\n",
       "      <td>Gross domestic product per capita, current prices</td>\n",
       "      <td>U.S. dollars</td>\n",
       "      <td>Units</td>\n",
       "      <td>See notes for:  Gross domestic product, curren...</td>\n",
       "      <td>1,421.84</td>\n",
       "      <td>1,763.34</td>\n",
       "      <td>1,784.58</td>\n",
       "      <td>1,849.43</td>\n",
       "      <td>1,839.92</td>\n",
       "      <td>1,965.14</td>\n",
       "      <td>...</td>\n",
       "      <td>2,016.05</td>\n",
       "      <td>2,557.21</td>\n",
       "      <td>2,557.27</td>\n",
       "      <td>2,806.69</td>\n",
       "      <td>n/a</td>\n",
       "      <td>n/a</td>\n",
       "      <td>n/a</td>\n",
       "      <td>n/a</td>\n",
       "      <td>n/a</td>\n",
       "      <td>2010.0</td>\n",
       "    </tr>\n",
       "    <tr>\n",
       "      <th>Luxembourg</th>\n",
       "      <td>Gross domestic product per capita, current prices</td>\n",
       "      <td>U.S. dollars</td>\n",
       "      <td>Units</td>\n",
       "      <td>See notes for:  Gross domestic product, curren...</td>\n",
       "      <td>17,831.91</td>\n",
       "      <td>15,332.10</td>\n",
       "      <td>12,580.55</td>\n",
       "      <td>12,349.05</td>\n",
       "      <td>12,096.32</td>\n",
       "      <td>12,514.15</td>\n",
       "      <td>...</td>\n",
       "      <td>105,825.34</td>\n",
       "      <td>114,522.93</td>\n",
       "      <td>102,359.18</td>\n",
       "      <td>104,459.34</td>\n",
       "      <td>114,791.14</td>\n",
       "      <td>106,730.53</td>\n",
       "      <td>115,101.44</td>\n",
       "      <td>118,208.84</td>\n",
       "      <td>102,716.56</td>\n",
       "      <td>2015.0</td>\n",
       "    </tr>\n",
       "    <tr>\n",
       "      <th>Switzerland</th>\n",
       "      <td>Gross domestic product per capita, current prices</td>\n",
       "      <td>U.S. dollars</td>\n",
       "      <td>Units</td>\n",
       "      <td>See notes for:  Gross domestic product, curren...</td>\n",
       "      <td>18,831.59</td>\n",
       "      <td>17,154.56</td>\n",
       "      <td>17,466.37</td>\n",
       "      <td>17,315.59</td>\n",
       "      <td>16,494.31</td>\n",
       "      <td>16,663.63</td>\n",
       "      <td>...</td>\n",
       "      <td>63,648.21</td>\n",
       "      <td>72,746.41</td>\n",
       "      <td>70,231.93</td>\n",
       "      <td>74,564.36</td>\n",
       "      <td>88,515.92</td>\n",
       "      <td>83,646.06</td>\n",
       "      <td>85,237.42</td>\n",
       "      <td>86,145.33</td>\n",
       "      <td>80,602.69</td>\n",
       "      <td>2015.0</td>\n",
       "    </tr>\n",
       "    <tr>\n",
       "      <th>Norway</th>\n",
       "      <td>Gross domestic product per capita, current prices</td>\n",
       "      <td>U.S. dollars</td>\n",
       "      <td>Units</td>\n",
       "      <td>See notes for:  Gross domestic product, curren...</td>\n",
       "      <td>15,748.33</td>\n",
       "      <td>15,486.75</td>\n",
       "      <td>15,197.90</td>\n",
       "      <td>14,907.06</td>\n",
       "      <td>14,974.23</td>\n",
       "      <td>15,732.94</td>\n",
       "      <td>...</td>\n",
       "      <td>84,904.37</td>\n",
       "      <td>96,499.70</td>\n",
       "      <td>79,786.85</td>\n",
       "      <td>87,309.30</td>\n",
       "      <td>100,171.70</td>\n",
       "      <td>101,169.35</td>\n",
       "      <td>102,573.67</td>\n",
       "      <td>97,066.57</td>\n",
       "      <td>74,597.99</td>\n",
       "      <td>2015.0</td>\n",
       "    </tr>\n",
       "    <tr>\n",
       "      <th>Macao SAR</th>\n",
       "      <td>Gross domestic product per capita, current prices</td>\n",
       "      <td>U.S. dollars</td>\n",
       "      <td>Units</td>\n",
       "      <td>See notes for:  Gross domestic product, curren...</td>\n",
       "      <td>n/a</td>\n",
       "      <td>n/a</td>\n",
       "      <td>n/a</td>\n",
       "      <td>n/a</td>\n",
       "      <td>n/a</td>\n",
       "      <td>n/a</td>\n",
       "      <td>...</td>\n",
       "      <td>34,083.97</td>\n",
       "      <td>38,086.69</td>\n",
       "      <td>39,615.32</td>\n",
       "      <td>50,920.89</td>\n",
       "      <td>65,870.82</td>\n",
       "      <td>73,932.69</td>\n",
       "      <td>84,854.58</td>\n",
       "      <td>87,272.58</td>\n",
       "      <td>71,394.16</td>\n",
       "      <td>2015.0</td>\n",
       "    </tr>\n",
       "  </tbody>\n",
       "</table>\n",
       "<p>5 rows × 41 columns</p>\n",
       "</div>"
      ],
      "text/plain": [
       "                                            Subject Descriptor         Units  \\\n",
       "Country                                                                        \n",
       "Syria        Gross domestic product per capita, current prices  U.S. dollars   \n",
       "Luxembourg   Gross domestic product per capita, current prices  U.S. dollars   \n",
       "Switzerland  Gross domestic product per capita, current prices  U.S. dollars   \n",
       "Norway       Gross domestic product per capita, current prices  U.S. dollars   \n",
       "Macao SAR    Gross domestic product per capita, current prices  U.S. dollars   \n",
       "\n",
       "             Scale                      Country/Series-specific Notes  \\\n",
       "Country                                                                 \n",
       "Syria        Units  See notes for:  Gross domestic product, curren...   \n",
       "Luxembourg   Units  See notes for:  Gross domestic product, curren...   \n",
       "Switzerland  Units  See notes for:  Gross domestic product, curren...   \n",
       "Norway       Units  See notes for:  Gross domestic product, curren...   \n",
       "Macao SAR    Units  See notes for:  Gross domestic product, curren...   \n",
       "\n",
       "                  1980       1981       1982       1983       1984       1985  \\\n",
       "Country                                                                         \n",
       "Syria         1,421.84   1,763.34   1,784.58   1,849.43   1,839.92   1,965.14   \n",
       "Luxembourg   17,831.91  15,332.10  12,580.55  12,349.05  12,096.32  12,514.15   \n",
       "Switzerland  18,831.59  17,154.56  17,466.37  17,315.59  16,494.31  16,663.63   \n",
       "Norway       15,748.33  15,486.75  15,197.90  14,907.06  14,974.23  15,732.94   \n",
       "Macao SAR          n/a        n/a        n/a        n/a        n/a        n/a   \n",
       "\n",
       "                     ...                 2007        2008        2009  \\\n",
       "Country              ...                                                \n",
       "Syria                ...             2,016.05    2,557.21    2,557.27   \n",
       "Luxembourg           ...           105,825.34  114,522.93  102,359.18   \n",
       "Switzerland          ...            63,648.21   72,746.41   70,231.93   \n",
       "Norway               ...            84,904.37   96,499.70   79,786.85   \n",
       "Macao SAR            ...            34,083.97   38,086.69   39,615.32   \n",
       "\n",
       "                   2010        2011        2012        2013        2014  \\\n",
       "Country                                                                   \n",
       "Syria          2,806.69         n/a         n/a         n/a         n/a   \n",
       "Luxembourg   104,459.34  114,791.14  106,730.53  115,101.44  118,208.84   \n",
       "Switzerland   74,564.36   88,515.92   83,646.06   85,237.42   86,145.33   \n",
       "Norway        87,309.30  100,171.70  101,169.35  102,573.67   97,066.57   \n",
       "Macao SAR     50,920.89   65,870.82   73,932.69   84,854.58   87,272.58   \n",
       "\n",
       "                   2015 Estimates Start After  \n",
       "Country                                        \n",
       "Syria               n/a                2010.0  \n",
       "Luxembourg   102,716.56                2015.0  \n",
       "Switzerland   80,602.69                2015.0  \n",
       "Norway        74,597.99                2015.0  \n",
       "Macao SAR     71,394.16                2015.0  \n",
       "\n",
       "[5 rows x 41 columns]"
      ]
     },
     "execution_count": 2,
     "metadata": {},
     "output_type": "execute_result"
    }
   ],
   "source": [
    "tsv = pd.read_csv('GDPperCapByTab.txt',sep='\\t',index_col=0) \n",
    "# this will let you read data from file name ~~ , and understand <tab> as delimiter\n",
    "\n",
    "tsv.head() # You can check whether data is correctly loaded in your df(;tsv) or not"
   ]
  },
  {
   "cell_type": "markdown",
   "metadata": {},
   "source": [
    "## Problem 1. \n",
    "1. Drop everything but \"name of country\" and \"data by year\".\n",
    "2. Modify data so that you can change it to float type number. (For example, u'1,421.84' can not be changed to float while \",\" exists.) 'n/a' can be changed to np.nan.\n",
    "<br><b>Hint, you can change type of whole data to float in one instuction if your data is in good format. </b>"
   ]
  },
  {
   "cell_type": "code",
   "execution_count": 3,
   "metadata": {
    "collapsed": false
   },
   "outputs": [],
   "source": [
    "#TODO\n",
    "tsv = tsv.iloc[0:,4:40]\n",
    "#print(ptsv)\n",
    "\n",
    "for columnNum in [str(num) for num in range(1980,2016)]:\n",
    "    #TODO hint : modify data suitable to change data type, like n/a to np.nan, etcs\n",
    "    #print (ptsv[columnNum][0])\n",
    "    #for rowNum in range (1, 41) :\n",
    "    for i in range (0,191) :\n",
    "        if (str(tsv[columnNum][i])=='n/a') :\n",
    "            tsv[columnNum][i] = np.nan\n",
    "            tsv[columnNum][i] = np.float64(tsv[columnNum][i])\n",
    "        else :\n",
    "            tsv[columnNum][i] = np.float64(str(tsv[columnNum][i]).replace(',',''))\n",
    "\n",
    "    #print ptsv['1980'][1]\n",
    "        #if (ptsv[columnNum][rowNum]=='n/a') :\n",
    "         #   ptsv[columnNum][rowNum] = 'np.nan'\n",
    "    #if (ptsv[columnNum]=='n/a') :\n",
    "    #    ptsv[columnNum]='np.nan'\n",
    "    pass\n",
    "\n",
    "#TODO: hint modify data type as float type"
   ]
  },
  {
   "cell_type": "code",
   "execution_count": 4,
   "metadata": {
    "collapsed": false
   },
   "outputs": [
    {
     "name": "stdout",
     "output_type": "stream",
     "text": [
      "Syria 1421.84 <type 'numpy.float64'>\n"
     ]
    }
   ],
   "source": [
    "print tsv.index[0],tsv.ix[0,0], type(tsv.ix[0,0])"
   ]
  },
  {
   "cell_type": "markdown",
   "metadata": {},
   "source": [
    "### Example of calculating mean using Pandas"
   ]
  },
  {
   "cell_type": "code",
   "execution_count": 5,
   "metadata": {
    "collapsed": false
   },
   "outputs": [
    {
     "data": {
      "text/html": [
       "<div>\n",
       "<table border=\"1\" class=\"dataframe\">\n",
       "  <thead>\n",
       "    <tr style=\"text-align: right;\">\n",
       "      <th></th>\n",
       "      <th>1980</th>\n",
       "      <th>1981</th>\n",
       "      <th>1982</th>\n",
       "      <th>1983</th>\n",
       "      <th>1984</th>\n",
       "    </tr>\n",
       "    <tr>\n",
       "      <th>Country</th>\n",
       "      <th></th>\n",
       "      <th></th>\n",
       "      <th></th>\n",
       "      <th></th>\n",
       "      <th></th>\n",
       "    </tr>\n",
       "  </thead>\n",
       "  <tbody>\n",
       "    <tr>\n",
       "      <th>Syria</th>\n",
       "      <td>1421.84</td>\n",
       "      <td>1763.34</td>\n",
       "      <td>1784.58</td>\n",
       "      <td>1849.43</td>\n",
       "      <td>1839.92</td>\n",
       "    </tr>\n",
       "    <tr>\n",
       "      <th>Luxembourg</th>\n",
       "      <td>17831.9</td>\n",
       "      <td>15332.1</td>\n",
       "      <td>12580.5</td>\n",
       "      <td>12349</td>\n",
       "      <td>12096.3</td>\n",
       "    </tr>\n",
       "    <tr>\n",
       "      <th>Switzerland</th>\n",
       "      <td>18831.6</td>\n",
       "      <td>17154.6</td>\n",
       "      <td>17466.4</td>\n",
       "      <td>17315.6</td>\n",
       "      <td>16494.3</td>\n",
       "    </tr>\n",
       "    <tr>\n",
       "      <th>Norway</th>\n",
       "      <td>15748.3</td>\n",
       "      <td>15486.8</td>\n",
       "      <td>15197.9</td>\n",
       "      <td>14907.1</td>\n",
       "      <td>14974.2</td>\n",
       "    </tr>\n",
       "    <tr>\n",
       "      <th>Macao SAR</th>\n",
       "      <td>NaN</td>\n",
       "      <td>NaN</td>\n",
       "      <td>NaN</td>\n",
       "      <td>NaN</td>\n",
       "      <td>NaN</td>\n",
       "    </tr>\n",
       "    <tr>\n",
       "      <th>Qatar</th>\n",
       "      <td>31999.3</td>\n",
       "      <td>32677.2</td>\n",
       "      <td>26613.6</td>\n",
       "      <td>21147.4</td>\n",
       "      <td>20551.6</td>\n",
       "    </tr>\n",
       "    <tr>\n",
       "      <th>Ireland</th>\n",
       "      <td>6291.28</td>\n",
       "      <td>5906.7</td>\n",
       "      <td>6110.93</td>\n",
       "      <td>5857.43</td>\n",
       "      <td>5619.5</td>\n",
       "    </tr>\n",
       "    <tr>\n",
       "      <th>United States of America</th>\n",
       "      <td>12575.6</td>\n",
       "      <td>13965.8</td>\n",
       "      <td>14410.2</td>\n",
       "      <td>15531.2</td>\n",
       "      <td>17099.3</td>\n",
       "    </tr>\n",
       "    <tr>\n",
       "      <th>Singapore</th>\n",
       "      <td>5003.79</td>\n",
       "      <td>5678.78</td>\n",
       "      <td>6003.2</td>\n",
       "      <td>6712.85</td>\n",
       "      <td>7156.01</td>\n",
       "    </tr>\n",
       "    <tr>\n",
       "      <th>Denmark</th>\n",
       "      <td>13889</td>\n",
       "      <td>12079</td>\n",
       "      <td>11803.2</td>\n",
       "      <td>11853.9</td>\n",
       "      <td>11563.6</td>\n",
       "    </tr>\n",
       "    <tr>\n",
       "      <th>Australia</th>\n",
       "      <td>11001</td>\n",
       "      <td>12521</td>\n",
       "      <td>12227.5</td>\n",
       "      <td>11585.1</td>\n",
       "      <td>12567.6</td>\n",
       "    </tr>\n",
       "    <tr>\n",
       "      <th>Iceland</th>\n",
       "      <td>15030.9</td>\n",
       "      <td>15324.8</td>\n",
       "      <td>13884.2</td>\n",
       "      <td>11775.5</td>\n",
       "      <td>12071</td>\n",
       "    </tr>\n",
       "    <tr>\n",
       "      <th>Sweden</th>\n",
       "      <td>16612.8</td>\n",
       "      <td>15156.9</td>\n",
       "      <td>13376.5</td>\n",
       "      <td>12288</td>\n",
       "      <td>12781.7</td>\n",
       "    </tr>\n",
       "    <tr>\n",
       "      <th>San Marino</th>\n",
       "      <td>NaN</td>\n",
       "      <td>NaN</td>\n",
       "      <td>NaN</td>\n",
       "      <td>NaN</td>\n",
       "      <td>NaN</td>\n",
       "    </tr>\n",
       "    <tr>\n",
       "      <th>Netherlands</th>\n",
       "      <td>13393.9</td>\n",
       "      <td>11150.9</td>\n",
       "      <td>10751.9</td>\n",
       "      <td>10428.4</td>\n",
       "      <td>9669.18</td>\n",
       "    </tr>\n",
       "    <tr>\n",
       "      <th>United Kingdom</th>\n",
       "      <td>10671.7</td>\n",
       "      <td>10357.6</td>\n",
       "      <td>9848.57</td>\n",
       "      <td>9381.76</td>\n",
       "      <td>8872.74</td>\n",
       "    </tr>\n",
       "    <tr>\n",
       "      <th>Austria</th>\n",
       "      <td>10708</td>\n",
       "      <td>9259.99</td>\n",
       "      <td>9246.95</td>\n",
       "      <td>9396.19</td>\n",
       "      <td>8862.78</td>\n",
       "    </tr>\n",
       "    <tr>\n",
       "      <th>Canada</th>\n",
       "      <td>11155.4</td>\n",
       "      <td>12355.4</td>\n",
       "      <td>12499.5</td>\n",
       "      <td>13441.4</td>\n",
       "      <td>13894.4</td>\n",
       "    </tr>\n",
       "    <tr>\n",
       "      <th>Finland</th>\n",
       "      <td>10079.4</td>\n",
       "      <td>8982.72</td>\n",
       "      <td>8778.57</td>\n",
       "      <td>8718.66</td>\n",
       "      <td>8551.22</td>\n",
       "    </tr>\n",
       "    <tr>\n",
       "      <th>Hong Kong SAR</th>\n",
       "      <td>5664.01</td>\n",
       "      <td>5953.18</td>\n",
       "      <td>6096.01</td>\n",
       "      <td>5551</td>\n",
       "      <td>6127.28</td>\n",
       "    </tr>\n",
       "    <tr>\n",
       "      <th>Germany</th>\n",
       "      <td>11028.3</td>\n",
       "      <td>9261.73</td>\n",
       "      <td>8948.3</td>\n",
       "      <td>8958.24</td>\n",
       "      <td>8475.15</td>\n",
       "    </tr>\n",
       "    <tr>\n",
       "      <th>Belgium</th>\n",
       "      <td>12596.2</td>\n",
       "      <td>10423.7</td>\n",
       "      <td>9179.72</td>\n",
       "      <td>8673.12</td>\n",
       "      <td>8290.87</td>\n",
       "    </tr>\n",
       "    <tr>\n",
       "      <th>United Arab Emirates</th>\n",
       "      <td>40014.6</td>\n",
       "      <td>40910.9</td>\n",
       "      <td>35767.7</td>\n",
       "      <td>31690.1</td>\n",
       "      <td>29017.1</td>\n",
       "    </tr>\n",
       "    <tr>\n",
       "      <th>France</th>\n",
       "      <td>13111.8</td>\n",
       "      <td>11497.1</td>\n",
       "      <td>10860.9</td>\n",
       "      <td>10330.9</td>\n",
       "      <td>9733.75</td>\n",
       "    </tr>\n",
       "    <tr>\n",
       "      <th>New Zealand</th>\n",
       "      <td>7203.52</td>\n",
       "      <td>7458.19</td>\n",
       "      <td>7326.45</td>\n",
       "      <td>7022.03</td>\n",
       "      <td>6919.02</td>\n",
       "    </tr>\n",
       "    <tr>\n",
       "      <th>Israel</th>\n",
       "      <td>6076.92</td>\n",
       "      <td>6393.11</td>\n",
       "      <td>6730.9</td>\n",
       "      <td>7350.56</td>\n",
       "      <td>6870.04</td>\n",
       "    </tr>\n",
       "    <tr>\n",
       "      <th>Japan</th>\n",
       "      <td>9308.86</td>\n",
       "      <td>10216.8</td>\n",
       "      <td>9432.96</td>\n",
       "      <td>10213.5</td>\n",
       "      <td>10784.3</td>\n",
       "    </tr>\n",
       "    <tr>\n",
       "      <th>Brunei Darussalam</th>\n",
       "      <td>NaN</td>\n",
       "      <td>NaN</td>\n",
       "      <td>NaN</td>\n",
       "      <td>NaN</td>\n",
       "      <td>NaN</td>\n",
       "    </tr>\n",
       "    <tr>\n",
       "      <th>Italy</th>\n",
       "      <td>8576.08</td>\n",
       "      <td>7764.52</td>\n",
       "      <td>7668.02</td>\n",
       "      <td>7951.11</td>\n",
       "      <td>7854.76</td>\n",
       "    </tr>\n",
       "    <tr>\n",
       "      <th>Puerto Rico</th>\n",
       "      <td>4507.15</td>\n",
       "      <td>4940.78</td>\n",
       "      <td>5146.93</td>\n",
       "      <td>5257.19</td>\n",
       "      <td>5777.44</td>\n",
       "    </tr>\n",
       "    <tr>\n",
       "      <th>...</th>\n",
       "      <td>...</td>\n",
       "      <td>...</td>\n",
       "      <td>...</td>\n",
       "      <td>...</td>\n",
       "      <td>...</td>\n",
       "    </tr>\n",
       "    <tr>\n",
       "      <th>Tanzania</th>\n",
       "      <td>398.213</td>\n",
       "      <td>462.384</td>\n",
       "      <td>515.824</td>\n",
       "      <td>513.729</td>\n",
       "      <td>454.85</td>\n",
       "    </tr>\n",
       "    <tr>\n",
       "      <th>Chad</th>\n",
       "      <td>167.345</td>\n",
       "      <td>193.153</td>\n",
       "      <td>182.076</td>\n",
       "      <td>177.734</td>\n",
       "      <td>186.265</td>\n",
       "    </tr>\n",
       "    <tr>\n",
       "      <th>Tajikistan</th>\n",
       "      <td>NaN</td>\n",
       "      <td>NaN</td>\n",
       "      <td>NaN</td>\n",
       "      <td>NaN</td>\n",
       "      <td>NaN</td>\n",
       "    </tr>\n",
       "    <tr>\n",
       "      <th>Senegal</th>\n",
       "      <td>620.162</td>\n",
       "      <td>547.423</td>\n",
       "      <td>521.159</td>\n",
       "      <td>451.816</td>\n",
       "      <td>427.941</td>\n",
       "    </tr>\n",
       "    <tr>\n",
       "      <th>Haiti</th>\n",
       "      <td>260.453</td>\n",
       "      <td>281.633</td>\n",
       "      <td>287.754</td>\n",
       "      <td>303.4</td>\n",
       "      <td>330.237</td>\n",
       "    </tr>\n",
       "    <tr>\n",
       "      <th>Mali</th>\n",
       "      <td>301.547</td>\n",
       "      <td>241.753</td>\n",
       "      <td>209.516</td>\n",
       "      <td>198.468</td>\n",
       "      <td>194.538</td>\n",
       "    </tr>\n",
       "    <tr>\n",
       "      <th>South Sudan</th>\n",
       "      <td>NaN</td>\n",
       "      <td>NaN</td>\n",
       "      <td>NaN</td>\n",
       "      <td>NaN</td>\n",
       "      <td>NaN</td>\n",
       "    </tr>\n",
       "    <tr>\n",
       "      <th>Benin</th>\n",
       "      <td>461.169</td>\n",
       "      <td>301.491</td>\n",
       "      <td>289.582</td>\n",
       "      <td>248.279</td>\n",
       "      <td>256.749</td>\n",
       "    </tr>\n",
       "    <tr>\n",
       "      <th>Nepal</th>\n",
       "      <td>132.833</td>\n",
       "      <td>151.833</td>\n",
       "      <td>149.97</td>\n",
       "      <td>160.346</td>\n",
       "      <td>165.745</td>\n",
       "    </tr>\n",
       "    <tr>\n",
       "      <th>Comoros</th>\n",
       "      <td>429.869</td>\n",
       "      <td>367.044</td>\n",
       "      <td>340.104</td>\n",
       "      <td>322.463</td>\n",
       "      <td>307.777</td>\n",
       "    </tr>\n",
       "    <tr>\n",
       "      <th>Rwanda</th>\n",
       "      <td>270.522</td>\n",
       "      <td>296.186</td>\n",
       "      <td>304.578</td>\n",
       "      <td>313.499</td>\n",
       "      <td>293.231</td>\n",
       "    </tr>\n",
       "    <tr>\n",
       "      <th>Sierra Leone</th>\n",
       "      <td>510.92</td>\n",
       "      <td>534.509</td>\n",
       "      <td>588.666</td>\n",
       "      <td>500.025</td>\n",
       "      <td>575.24</td>\n",
       "    </tr>\n",
       "    <tr>\n",
       "      <th>Eritrea</th>\n",
       "      <td>NaN</td>\n",
       "      <td>NaN</td>\n",
       "      <td>NaN</td>\n",
       "      <td>NaN</td>\n",
       "      <td>NaN</td>\n",
       "    </tr>\n",
       "    <tr>\n",
       "      <th>Ethiopia</th>\n",
       "      <td>215.178</td>\n",
       "      <td>215.599</td>\n",
       "      <td>220.557</td>\n",
       "      <td>237.661</td>\n",
       "      <td>217.423</td>\n",
       "    </tr>\n",
       "    <tr>\n",
       "      <th>Afghanistan</th>\n",
       "      <td>NaN</td>\n",
       "      <td>NaN</td>\n",
       "      <td>NaN</td>\n",
       "      <td>NaN</td>\n",
       "      <td>NaN</td>\n",
       "    </tr>\n",
       "    <tr>\n",
       "      <th>Burkina Faso</th>\n",
       "      <td>291.122</td>\n",
       "      <td>247.147</td>\n",
       "      <td>224.559</td>\n",
       "      <td>200.148</td>\n",
       "      <td>174.5</td>\n",
       "    </tr>\n",
       "    <tr>\n",
       "      <th>Uganda</th>\n",
       "      <td>459.928</td>\n",
       "      <td>722.605</td>\n",
       "      <td>486.55</td>\n",
       "      <td>539.686</td>\n",
       "      <td>402.112</td>\n",
       "    </tr>\n",
       "    <tr>\n",
       "      <th>Guinea-Bissau</th>\n",
       "      <td>206.197</td>\n",
       "      <td>258.282</td>\n",
       "      <td>287.724</td>\n",
       "      <td>317.877</td>\n",
       "      <td>216.511</td>\n",
       "    </tr>\n",
       "    <tr>\n",
       "      <th>Togo</th>\n",
       "      <td>439.652</td>\n",
       "      <td>354.44</td>\n",
       "      <td>257.257</td>\n",
       "      <td>238.239</td>\n",
       "      <td>202.958</td>\n",
       "    </tr>\n",
       "    <tr>\n",
       "      <th>Guinea</th>\n",
       "      <td>NaN</td>\n",
       "      <td>NaN</td>\n",
       "      <td>NaN</td>\n",
       "      <td>NaN</td>\n",
       "      <td>NaN</td>\n",
       "    </tr>\n",
       "    <tr>\n",
       "      <th>Mozambique</th>\n",
       "      <td>444.797</td>\n",
       "      <td>337.264</td>\n",
       "      <td>336.635</td>\n",
       "      <td>295.418</td>\n",
       "      <td>302.875</td>\n",
       "    </tr>\n",
       "    <tr>\n",
       "      <th>Liberia</th>\n",
       "      <td>NaN</td>\n",
       "      <td>NaN</td>\n",
       "      <td>NaN</td>\n",
       "      <td>NaN</td>\n",
       "      <td>NaN</td>\n",
       "    </tr>\n",
       "    <tr>\n",
       "      <th>Democratic Republic of the Congo</th>\n",
       "      <td>2389.5</td>\n",
       "      <td>2013.74</td>\n",
       "      <td>2119.59</td>\n",
       "      <td>1654.97</td>\n",
       "      <td>1069.07</td>\n",
       "    </tr>\n",
       "    <tr>\n",
       "      <th>The Gambia</th>\n",
       "      <td>611.169</td>\n",
       "      <td>550.379</td>\n",
       "      <td>502.126</td>\n",
       "      <td>485.58</td>\n",
       "      <td>335.268</td>\n",
       "    </tr>\n",
       "    <tr>\n",
       "      <th>Niger</th>\n",
       "      <td>461.461</td>\n",
       "      <td>386.192</td>\n",
       "      <td>346.882</td>\n",
       "      <td>299.592</td>\n",
       "      <td>234.733</td>\n",
       "    </tr>\n",
       "    <tr>\n",
       "      <th>Madagascar</th>\n",
       "      <td>462.086</td>\n",
       "      <td>400.199</td>\n",
       "      <td>382.453</td>\n",
       "      <td>371.145</td>\n",
       "      <td>302.587</td>\n",
       "    </tr>\n",
       "    <tr>\n",
       "      <th>Malawi</th>\n",
       "      <td>326.983</td>\n",
       "      <td>318.032</td>\n",
       "      <td>295.582</td>\n",
       "      <td>298.052</td>\n",
       "      <td>284.324</td>\n",
       "    </tr>\n",
       "    <tr>\n",
       "      <th>Central African Republic</th>\n",
       "      <td>313.369</td>\n",
       "      <td>316.495</td>\n",
       "      <td>298.747</td>\n",
       "      <td>279.719</td>\n",
       "      <td>265.441</td>\n",
       "    </tr>\n",
       "    <tr>\n",
       "      <th>Burundi</th>\n",
       "      <td>232.381</td>\n",
       "      <td>234.94</td>\n",
       "      <td>241.083</td>\n",
       "      <td>247.995</td>\n",
       "      <td>218.999</td>\n",
       "    </tr>\n",
       "    <tr>\n",
       "      <th>Kosovo</th>\n",
       "      <td>NaN</td>\n",
       "      <td>NaN</td>\n",
       "      <td>NaN</td>\n",
       "      <td>NaN</td>\n",
       "      <td>NaN</td>\n",
       "    </tr>\n",
       "  </tbody>\n",
       "</table>\n",
       "<p>191 rows × 5 columns</p>\n",
       "</div>"
      ],
      "text/plain": [
       "                                     1980     1981     1982     1983     1984\n",
       "Country                                                                      \n",
       "Syria                             1421.84  1763.34  1784.58  1849.43  1839.92\n",
       "Luxembourg                        17831.9  15332.1  12580.5    12349  12096.3\n",
       "Switzerland                       18831.6  17154.6  17466.4  17315.6  16494.3\n",
       "Norway                            15748.3  15486.8  15197.9  14907.1  14974.2\n",
       "Macao SAR                             NaN      NaN      NaN      NaN      NaN\n",
       "Qatar                             31999.3  32677.2  26613.6  21147.4  20551.6\n",
       "Ireland                           6291.28   5906.7  6110.93  5857.43   5619.5\n",
       "United States of America          12575.6  13965.8  14410.2  15531.2  17099.3\n",
       "Singapore                         5003.79  5678.78   6003.2  6712.85  7156.01\n",
       "Denmark                             13889    12079  11803.2  11853.9  11563.6\n",
       "Australia                           11001    12521  12227.5  11585.1  12567.6\n",
       "Iceland                           15030.9  15324.8  13884.2  11775.5    12071\n",
       "Sweden                            16612.8  15156.9  13376.5    12288  12781.7\n",
       "San Marino                            NaN      NaN      NaN      NaN      NaN\n",
       "Netherlands                       13393.9  11150.9  10751.9  10428.4  9669.18\n",
       "United Kingdom                    10671.7  10357.6  9848.57  9381.76  8872.74\n",
       "Austria                             10708  9259.99  9246.95  9396.19  8862.78\n",
       "Canada                            11155.4  12355.4  12499.5  13441.4  13894.4\n",
       "Finland                           10079.4  8982.72  8778.57  8718.66  8551.22\n",
       "Hong Kong SAR                     5664.01  5953.18  6096.01     5551  6127.28\n",
       "Germany                           11028.3  9261.73   8948.3  8958.24  8475.15\n",
       "Belgium                           12596.2  10423.7  9179.72  8673.12  8290.87\n",
       "United Arab Emirates              40014.6  40910.9  35767.7  31690.1  29017.1\n",
       "France                            13111.8  11497.1  10860.9  10330.9  9733.75\n",
       "New Zealand                       7203.52  7458.19  7326.45  7022.03  6919.02\n",
       "Israel                            6076.92  6393.11   6730.9  7350.56  6870.04\n",
       "Japan                             9308.86  10216.8  9432.96  10213.5  10784.3\n",
       "Brunei Darussalam                     NaN      NaN      NaN      NaN      NaN\n",
       "Italy                             8576.08  7764.52  7668.02  7951.11  7854.76\n",
       "Puerto Rico                       4507.15  4940.78  5146.93  5257.19  5777.44\n",
       "...                                   ...      ...      ...      ...      ...\n",
       "Tanzania                          398.213  462.384  515.824  513.729   454.85\n",
       "Chad                              167.345  193.153  182.076  177.734  186.265\n",
       "Tajikistan                            NaN      NaN      NaN      NaN      NaN\n",
       "Senegal                           620.162  547.423  521.159  451.816  427.941\n",
       "Haiti                             260.453  281.633  287.754    303.4  330.237\n",
       "Mali                              301.547  241.753  209.516  198.468  194.538\n",
       "South Sudan                           NaN      NaN      NaN      NaN      NaN\n",
       "Benin                             461.169  301.491  289.582  248.279  256.749\n",
       "Nepal                             132.833  151.833   149.97  160.346  165.745\n",
       "Comoros                           429.869  367.044  340.104  322.463  307.777\n",
       "Rwanda                            270.522  296.186  304.578  313.499  293.231\n",
       "Sierra Leone                       510.92  534.509  588.666  500.025   575.24\n",
       "Eritrea                               NaN      NaN      NaN      NaN      NaN\n",
       "Ethiopia                          215.178  215.599  220.557  237.661  217.423\n",
       "Afghanistan                           NaN      NaN      NaN      NaN      NaN\n",
       "Burkina Faso                      291.122  247.147  224.559  200.148    174.5\n",
       "Uganda                            459.928  722.605   486.55  539.686  402.112\n",
       "Guinea-Bissau                     206.197  258.282  287.724  317.877  216.511\n",
       "Togo                              439.652   354.44  257.257  238.239  202.958\n",
       "Guinea                                NaN      NaN      NaN      NaN      NaN\n",
       "Mozambique                        444.797  337.264  336.635  295.418  302.875\n",
       "Liberia                               NaN      NaN      NaN      NaN      NaN\n",
       "Democratic Republic of the Congo   2389.5  2013.74  2119.59  1654.97  1069.07\n",
       "The Gambia                        611.169  550.379  502.126   485.58  335.268\n",
       "Niger                             461.461  386.192  346.882  299.592  234.733\n",
       "Madagascar                        462.086  400.199  382.453  371.145  302.587\n",
       "Malawi                            326.983  318.032  295.582  298.052  284.324\n",
       "Central African Republic          313.369  316.495  298.747  279.719  265.441\n",
       "Burundi                           232.381   234.94  241.083  247.995  218.999\n",
       "Kosovo                                NaN      NaN      NaN      NaN      NaN\n",
       "\n",
       "[191 rows x 5 columns]"
      ]
     },
     "execution_count": 5,
     "metadata": {},
     "output_type": "execute_result"
    }
   ],
   "source": [
    "resulttsv = tsv[[str(num) for num in range(1980,1985)]]\n",
    "resulttsv"
   ]
  },
  {
   "cell_type": "code",
   "execution_count": 6,
   "metadata": {
    "collapsed": false,
    "scrolled": true
   },
   "outputs": [
    {
     "name": "stderr",
     "output_type": "stream",
     "text": [
      "C:\\Users\\lgpc\\Anaconda\\lib\\site-packages\\ipykernel\\__main__.py:1: SettingWithCopyWarning: \n",
      "A value is trying to be set on a copy of a slice from a DataFrame.\n",
      "Try using .loc[row_indexer,col_indexer] = value instead\n",
      "\n",
      "See the caveats in the documentation: http://pandas.pydata.org/pandas-docs/stable/indexing.html#indexing-view-versus-copy\n",
      "  if __name__ == '__main__':\n"
     ]
    }
   ],
   "source": [
    "resulttsv['1980-1985']=resulttsv.mean(axis=1)\n",
    "# I think it would be okay to ignore simple warning below."
   ]
  },
  {
   "cell_type": "code",
   "execution_count": 7,
   "metadata": {
    "collapsed": false,
    "scrolled": true
   },
   "outputs": [
    {
     "data": {
      "text/html": [
       "<div>\n",
       "<table border=\"1\" class=\"dataframe\">\n",
       "  <thead>\n",
       "    <tr style=\"text-align: right;\">\n",
       "      <th></th>\n",
       "      <th>1980</th>\n",
       "      <th>1981</th>\n",
       "      <th>1982</th>\n",
       "      <th>1983</th>\n",
       "      <th>1984</th>\n",
       "      <th>1980-1985</th>\n",
       "    </tr>\n",
       "    <tr>\n",
       "      <th>Country</th>\n",
       "      <th></th>\n",
       "      <th></th>\n",
       "      <th></th>\n",
       "      <th></th>\n",
       "      <th></th>\n",
       "      <th></th>\n",
       "    </tr>\n",
       "  </thead>\n",
       "  <tbody>\n",
       "    <tr>\n",
       "      <th>Syria</th>\n",
       "      <td>1421.84</td>\n",
       "      <td>1763.34</td>\n",
       "      <td>1784.58</td>\n",
       "      <td>1849.43</td>\n",
       "      <td>1839.92</td>\n",
       "      <td>1731.822</td>\n",
       "    </tr>\n",
       "    <tr>\n",
       "      <th>Luxembourg</th>\n",
       "      <td>17831.9</td>\n",
       "      <td>15332.1</td>\n",
       "      <td>12580.5</td>\n",
       "      <td>12349</td>\n",
       "      <td>12096.3</td>\n",
       "      <td>14037.986</td>\n",
       "    </tr>\n",
       "    <tr>\n",
       "      <th>Switzerland</th>\n",
       "      <td>18831.6</td>\n",
       "      <td>17154.6</td>\n",
       "      <td>17466.4</td>\n",
       "      <td>17315.6</td>\n",
       "      <td>16494.3</td>\n",
       "      <td>17452.484</td>\n",
       "    </tr>\n",
       "    <tr>\n",
       "      <th>Norway</th>\n",
       "      <td>15748.3</td>\n",
       "      <td>15486.8</td>\n",
       "      <td>15197.9</td>\n",
       "      <td>14907.1</td>\n",
       "      <td>14974.2</td>\n",
       "      <td>15262.854</td>\n",
       "    </tr>\n",
       "    <tr>\n",
       "      <th>Macao SAR</th>\n",
       "      <td>NaN</td>\n",
       "      <td>NaN</td>\n",
       "      <td>NaN</td>\n",
       "      <td>NaN</td>\n",
       "      <td>NaN</td>\n",
       "      <td>NaN</td>\n",
       "    </tr>\n",
       "  </tbody>\n",
       "</table>\n",
       "</div>"
      ],
      "text/plain": [
       "                1980     1981     1982     1983     1984  1980-1985\n",
       "Country                                                            \n",
       "Syria        1421.84  1763.34  1784.58  1849.43  1839.92   1731.822\n",
       "Luxembourg   17831.9  15332.1  12580.5    12349  12096.3  14037.986\n",
       "Switzerland  18831.6  17154.6  17466.4  17315.6  16494.3  17452.484\n",
       "Norway       15748.3  15486.8  15197.9  14907.1  14974.2  15262.854\n",
       "Macao SAR        NaN      NaN      NaN      NaN      NaN        NaN"
      ]
     },
     "execution_count": 7,
     "metadata": {},
     "output_type": "execute_result"
    }
   ],
   "source": [
    "resulttsv.head()"
   ]
  },
  {
   "cell_type": "markdown",
   "metadata": {},
   "source": [
    "#### Let's drop something useless"
   ]
  },
  {
   "cell_type": "code",
   "execution_count": 8,
   "metadata": {
    "collapsed": false
   },
   "outputs": [],
   "source": [
    "resulttsv=resulttsv.drop([str(num) for num in range(1980,1985)],axis=1)"
   ]
  },
  {
   "cell_type": "markdown",
   "metadata": {},
   "source": [
    "## Problem 2. Get average value by country of each 5 years from 1980 to 2015\n",
    "<b> Condition 1 : Data should be in \"int\" type (numpy.int64 or else) </b>\n",
    "<br><b> Condition 2 : Dataframe should be in the form of given output (two cells below)</b>"
   ]
  },
  {
   "cell_type": "code",
   "execution_count": 9,
   "metadata": {
    "collapsed": false,
    "scrolled": true
   },
   "outputs": [
    {
     "name": "stderr",
     "output_type": "stream",
     "text": [
      "C:\\Users\\lgpc\\Anaconda\\lib\\site-packages\\ipykernel\\__main__.py:8: SettingWithCopyWarning: \n",
      "A value is trying to be set on a copy of a slice from a DataFrame.\n",
      "Try using .loc[row_indexer,col_indexer] = value instead\n",
      "\n",
      "See the caveats in the documentation: http://pandas.pydata.org/pandas-docs/stable/indexing.html#indexing-view-versus-copy\n",
      "C:\\Users\\lgpc\\Anaconda\\lib\\site-packages\\ipykernel\\__main__.py:11: SettingWithCopyWarning: \n",
      "A value is trying to be set on a copy of a slice from a DataFrame.\n",
      "Try using .loc[row_indexer,col_indexer] = value instead\n",
      "\n",
      "See the caveats in the documentation: http://pandas.pydata.org/pandas-docs/stable/indexing.html#indexing-view-versus-copy\n",
      "C:\\Users\\lgpc\\Anaconda\\lib\\site-packages\\ipykernel\\__main__.py:14: SettingWithCopyWarning: \n",
      "A value is trying to be set on a copy of a slice from a DataFrame.\n",
      "Try using .loc[row_indexer,col_indexer] = value instead\n",
      "\n",
      "See the caveats in the documentation: http://pandas.pydata.org/pandas-docs/stable/indexing.html#indexing-view-versus-copy\n",
      "C:\\Users\\lgpc\\Anaconda\\lib\\site-packages\\ipykernel\\__main__.py:17: SettingWithCopyWarning: \n",
      "A value is trying to be set on a copy of a slice from a DataFrame.\n",
      "Try using .loc[row_indexer,col_indexer] = value instead\n",
      "\n",
      "See the caveats in the documentation: http://pandas.pydata.org/pandas-docs/stable/indexing.html#indexing-view-versus-copy\n",
      "C:\\Users\\lgpc\\Anaconda\\lib\\site-packages\\ipykernel\\__main__.py:20: SettingWithCopyWarning: \n",
      "A value is trying to be set on a copy of a slice from a DataFrame.\n",
      "Try using .loc[row_indexer,col_indexer] = value instead\n",
      "\n",
      "See the caveats in the documentation: http://pandas.pydata.org/pandas-docs/stable/indexing.html#indexing-view-versus-copy\n",
      "C:\\Users\\lgpc\\Anaconda\\lib\\site-packages\\ipykernel\\__main__.py:23: SettingWithCopyWarning: \n",
      "A value is trying to be set on a copy of a slice from a DataFrame.\n",
      "Try using .loc[row_indexer,col_indexer] = value instead\n",
      "\n",
      "See the caveats in the documentation: http://pandas.pydata.org/pandas-docs/stable/indexing.html#indexing-view-versus-copy\n"
     ]
    }
   ],
   "source": [
    "#TODO\n",
    "resulttsv1 = tsv[[str(num) for num in range(1985,1990)]]\n",
    "resulttsv2 = tsv[[str(num) for num in range(1990,1995)]]\n",
    "resulttsv3 = tsv[[str(num) for num in range(1995,2000)]]\n",
    "resulttsv4 = tsv[[str(num) for num in range(2000,2005)]]\n",
    "resulttsv5 = tsv[[str(num) for num in range(2005,2010)]]\n",
    "resulttsv6 = tsv[[str(num) for num in range(2010,2015)]]\n",
    "resulttsv1['1985-1990']=resulttsv1.mean(axis=1)\n",
    "resulttsv1=resulttsv1.drop([str(num) for num in range(1985,1990)],axis=1)\n",
    "resulttsv['1985-1990']=resulttsv1\n",
    "resulttsv2['1990-1995']=resulttsv2.mean(axis=1)\n",
    "resulttsv2=resulttsv2.drop([str(num) for num in range(1990,1995)],axis=1)\n",
    "resulttsv['1990-1995']=resulttsv2\n",
    "resulttsv3['1995-2000']=resulttsv3.mean(axis=1)\n",
    "resulttsv3=resulttsv3.drop([str(num) for num in range(1995,2000)],axis=1)\n",
    "resulttsv['1995-2000']=resulttsv3\n",
    "resulttsv4['2000-2005']=resulttsv4.mean(axis=1)\n",
    "resulttsv4=resulttsv4.drop([str(num) for num in range(2000,2005)],axis=1)\n",
    "resulttsv['2000-2005']=resulttsv4\n",
    "resulttsv5['2005-2010']=resulttsv5.mean(axis=1)\n",
    "resulttsv5=resulttsv5.drop([str(num) for num in range(2005,2010)],axis=1)\n",
    "resulttsv['2005-2010']=resulttsv5\n",
    "resulttsv6['2010-2015']=resulttsv6.mean(axis=1)\n",
    "resulttsv6=resulttsv6.drop([str(num) for num in range(2010,2015)],axis=1)\n",
    "resulttsv['2010-2015']=resulttsv6\n",
    "\n",
    "# Think wisely! It does not require long code. \n"
   ]
  },
  {
   "cell_type": "code",
   "execution_count": 10,
   "metadata": {
    "collapsed": false,
    "scrolled": true
   },
   "outputs": [
    {
     "name": "stdout",
     "output_type": "stream",
     "text": [
      "Luxembourg 14037.986 <type 'numpy.float64'>\n"
     ]
    },
    {
     "data": {
      "text/html": [
       "<div>\n",
       "<table border=\"1\" class=\"dataframe\">\n",
       "  <thead>\n",
       "    <tr style=\"text-align: right;\">\n",
       "      <th></th>\n",
       "      <th>1980-1985</th>\n",
       "      <th>1985-1990</th>\n",
       "      <th>1990-1995</th>\n",
       "      <th>1995-2000</th>\n",
       "      <th>2000-2005</th>\n",
       "      <th>2005-2010</th>\n",
       "      <th>2010-2015</th>\n",
       "    </tr>\n",
       "    <tr>\n",
       "      <th>Country</th>\n",
       "      <th></th>\n",
       "      <th></th>\n",
       "      <th></th>\n",
       "      <th></th>\n",
       "      <th></th>\n",
       "      <th></th>\n",
       "      <th></th>\n",
       "    </tr>\n",
       "  </thead>\n",
       "  <tbody>\n",
       "    <tr>\n",
       "      <th>Syria</th>\n",
       "      <td>1731.822</td>\n",
       "      <td>1852.6038</td>\n",
       "      <td>995.7332</td>\n",
       "      <td>1094.294</td>\n",
       "      <td>1263.054</td>\n",
       "      <td>2073.390</td>\n",
       "      <td>2806.690</td>\n",
       "    </tr>\n",
       "    <tr>\n",
       "      <th>Luxembourg</th>\n",
       "      <td>14037.986</td>\n",
       "      <td>20919.8200</td>\n",
       "      <td>38416.5220</td>\n",
       "      <td>48373.558</td>\n",
       "      <td>58195.980</td>\n",
       "      <td>98488.898</td>\n",
       "      <td>111858.258</td>\n",
       "    </tr>\n",
       "    <tr>\n",
       "      <th>Switzerland</th>\n",
       "      <td>17452.484</td>\n",
       "      <td>26454.4740</td>\n",
       "      <td>39355.5180</td>\n",
       "      <td>43602.042</td>\n",
       "      <td>43953.436</td>\n",
       "      <td>63836.030</td>\n",
       "      <td>83621.818</td>\n",
       "    </tr>\n",
       "    <tr>\n",
       "      <th>Norway</th>\n",
       "      <td>15262.854</td>\n",
       "      <td>21086.5000</td>\n",
       "      <td>28838.4460</td>\n",
       "      <td>35918.156</td>\n",
       "      <td>45353.460</td>\n",
       "      <td>80352.928</td>\n",
       "      <td>97658.118</td>\n",
       "    </tr>\n",
       "    <tr>\n",
       "      <th>Macao SAR</th>\n",
       "      <td>NaN</td>\n",
       "      <td>NaN</td>\n",
       "      <td>NaN</td>\n",
       "      <td>NaN</td>\n",
       "      <td>18365.505</td>\n",
       "      <td>33112.298</td>\n",
       "      <td>72570.312</td>\n",
       "    </tr>\n",
       "  </tbody>\n",
       "</table>\n",
       "</div>"
      ],
      "text/plain": [
       "             1980-1985   1985-1990   1990-1995  1995-2000  2000-2005  \\\n",
       "Country                                                                \n",
       "Syria         1731.822   1852.6038    995.7332   1094.294   1263.054   \n",
       "Luxembourg   14037.986  20919.8200  38416.5220  48373.558  58195.980   \n",
       "Switzerland  17452.484  26454.4740  39355.5180  43602.042  43953.436   \n",
       "Norway       15262.854  21086.5000  28838.4460  35918.156  45353.460   \n",
       "Macao SAR          NaN         NaN         NaN        NaN  18365.505   \n",
       "\n",
       "             2005-2010   2010-2015  \n",
       "Country                             \n",
       "Syria         2073.390    2806.690  \n",
       "Luxembourg   98488.898  111858.258  \n",
       "Switzerland  63836.030   83621.818  \n",
       "Norway       80352.928   97658.118  \n",
       "Macao SAR    33112.298   72570.312  "
      ]
     },
     "execution_count": 10,
     "metadata": {},
     "output_type": "execute_result"
    }
   ],
   "source": [
    "print resulttsv.index[1],resulttsv.ix[1,0],type(resulttsv.ix[1,0])\n",
    "resulttsv.head()"
   ]
  },
  {
   "cell_type": "markdown",
   "metadata": {},
   "source": [
    "Let's check the result once again.\n",
    "<br>Always double-check to avoid mistake"
   ]
  },
  {
   "cell_type": "code",
   "execution_count": 11,
   "metadata": {
    "collapsed": false
   },
   "outputs": [
    {
     "data": {
      "text/html": [
       "<div>\n",
       "<table border=\"1\" class=\"dataframe\">\n",
       "  <thead>\n",
       "    <tr style=\"text-align: right;\">\n",
       "      <th></th>\n",
       "      <th>1980-1985</th>\n",
       "      <th>1985-1990</th>\n",
       "      <th>1990-1995</th>\n",
       "      <th>1995-2000</th>\n",
       "      <th>2000-2005</th>\n",
       "      <th>2005-2010</th>\n",
       "      <th>2010-2015</th>\n",
       "    </tr>\n",
       "  </thead>\n",
       "  <tbody>\n",
       "    <tr>\n",
       "      <th>count</th>\n",
       "      <td>140.000000</td>\n",
       "      <td>142.000000</td>\n",
       "      <td>171.000000</td>\n",
       "      <td>180.000000</td>\n",
       "      <td>189.000000</td>\n",
       "      <td>189.000000</td>\n",
       "      <td>190.000000</td>\n",
       "    </tr>\n",
       "    <tr>\n",
       "      <th>mean</th>\n",
       "      <td>3819.094242</td>\n",
       "      <td>4528.536742</td>\n",
       "      <td>5486.601236</td>\n",
       "      <td>6484.025077</td>\n",
       "      <td>7626.981967</td>\n",
       "      <td>11935.494029</td>\n",
       "      <td>14220.621295</td>\n",
       "    </tr>\n",
       "    <tr>\n",
       "      <th>std</th>\n",
       "      <td>5403.238537</td>\n",
       "      <td>6077.691042</td>\n",
       "      <td>8392.242731</td>\n",
       "      <td>9736.584106</td>\n",
       "      <td>11726.745167</td>\n",
       "      <td>17490.596740</td>\n",
       "      <td>20062.784791</td>\n",
       "    </tr>\n",
       "    <tr>\n",
       "      <th>min</th>\n",
       "      <td>152.145400</td>\n",
       "      <td>32.696500</td>\n",
       "      <td>107.396667</td>\n",
       "      <td>144.477800</td>\n",
       "      <td>123.361000</td>\n",
       "      <td>181.807200</td>\n",
       "      <td>275.023600</td>\n",
       "    </tr>\n",
       "    <tr>\n",
       "      <th>25%</th>\n",
       "      <td>545.765700</td>\n",
       "      <td>541.618200</td>\n",
       "      <td>501.979200</td>\n",
       "      <td>620.251700</td>\n",
       "      <td>700.224400</td>\n",
       "      <td>1076.330200</td>\n",
       "      <td>1682.143500</td>\n",
       "    </tr>\n",
       "    <tr>\n",
       "      <th>50%</th>\n",
       "      <td>1447.526000</td>\n",
       "      <td>1629.800000</td>\n",
       "      <td>1406.734000</td>\n",
       "      <td>2041.208000</td>\n",
       "      <td>2237.720000</td>\n",
       "      <td>3893.222000</td>\n",
       "      <td>5728.612000</td>\n",
       "    </tr>\n",
       "    <tr>\n",
       "      <th>75%</th>\n",
       "      <td>5097.015500</td>\n",
       "      <td>6241.717500</td>\n",
       "      <td>5948.661000</td>\n",
       "      <td>7012.935500</td>\n",
       "      <td>8198.314000</td>\n",
       "      <td>14475.662000</td>\n",
       "      <td>15562.978500</td>\n",
       "    </tr>\n",
       "    <tr>\n",
       "      <th>max</th>\n",
       "      <td>35480.062000</td>\n",
       "      <td>26454.474000</td>\n",
       "      <td>39355.518000</td>\n",
       "      <td>48373.558000</td>\n",
       "      <td>64192.280000</td>\n",
       "      <td>98488.898000</td>\n",
       "      <td>111858.258000</td>\n",
       "    </tr>\n",
       "  </tbody>\n",
       "</table>\n",
       "</div>"
      ],
      "text/plain": [
       "          1980-1985     1985-1990     1990-1995     1995-2000     2000-2005  \\\n",
       "count    140.000000    142.000000    171.000000    180.000000    189.000000   \n",
       "mean    3819.094242   4528.536742   5486.601236   6484.025077   7626.981967   \n",
       "std     5403.238537   6077.691042   8392.242731   9736.584106  11726.745167   \n",
       "min      152.145400     32.696500    107.396667    144.477800    123.361000   \n",
       "25%      545.765700    541.618200    501.979200    620.251700    700.224400   \n",
       "50%     1447.526000   1629.800000   1406.734000   2041.208000   2237.720000   \n",
       "75%     5097.015500   6241.717500   5948.661000   7012.935500   8198.314000   \n",
       "max    35480.062000  26454.474000  39355.518000  48373.558000  64192.280000   \n",
       "\n",
       "          2005-2010      2010-2015  \n",
       "count    189.000000     190.000000  \n",
       "mean   11935.494029   14220.621295  \n",
       "std    17490.596740   20062.784791  \n",
       "min      181.807200     275.023600  \n",
       "25%     1076.330200    1682.143500  \n",
       "50%     3893.222000    5728.612000  \n",
       "75%    14475.662000   15562.978500  \n",
       "max    98488.898000  111858.258000  "
      ]
     },
     "execution_count": 11,
     "metadata": {},
     "output_type": "execute_result"
    }
   ],
   "source": [
    "resulttsv.describe()"
   ]
  },
  {
   "cell_type": "code",
   "execution_count": 12,
   "metadata": {
    "collapsed": false,
    "scrolled": true
   },
   "outputs": [
    {
     "data": {
      "text/plain": [
       "Index([u'1980-1985', u'1985-1990', u'1990-1995', u'1995-2000', u'2000-2005',\n",
       "       u'2005-2010', u'2010-2015'],\n",
       "      dtype='object')"
      ]
     },
     "execution_count": 12,
     "metadata": {},
     "output_type": "execute_result"
    }
   ],
   "source": [
    "resulttsv.columns"
   ]
  },
  {
   "cell_type": "markdown",
   "metadata": {},
   "source": [
    "# Get Infant Mortality rate"
   ]
  },
  {
   "cell_type": "markdown",
   "metadata": {},
   "source": [
    "## Problem 3. Pre-process data.\n",
    "Do the almost same process as we did above :)"
   ]
  },
  {
   "cell_type": "markdown",
   "metadata": {},
   "source": [
    "## Problem 3-1."
   ]
  },
  {
   "cell_type": "code",
   "execution_count": 13,
   "metadata": {
    "collapsed": false
   },
   "outputs": [
    {
     "data": {
      "text/html": [
       "<div>\n",
       "<table border=\"1\" class=\"dataframe\">\n",
       "  <thead>\n",
       "    <tr style=\"text-align: right;\">\n",
       "      <th></th>\n",
       "      <th>1950-1955</th>\n",
       "      <th>1955-1960</th>\n",
       "      <th>1960-1965</th>\n",
       "      <th>1965-1970</th>\n",
       "      <th>1970-1975</th>\n",
       "      <th>1975-1980</th>\n",
       "      <th>1980-1985</th>\n",
       "      <th>1985-1990</th>\n",
       "      <th>1990-1995</th>\n",
       "      <th>1995-2000</th>\n",
       "      <th>2000-2005</th>\n",
       "      <th>2005-2010</th>\n",
       "      <th>2010-2015</th>\n",
       "    </tr>\n",
       "  </thead>\n",
       "  <tbody>\n",
       "    <tr>\n",
       "      <th>Afghanistan</th>\n",
       "      <td>280.98</td>\n",
       "      <td>256.27</td>\n",
       "      <td>234.26</td>\n",
       "      <td>216.07</td>\n",
       "      <td>198.77</td>\n",
       "      <td>180.32</td>\n",
       "      <td>159.16</td>\n",
       "      <td>134.14</td>\n",
       "      <td>111.31</td>\n",
       "      <td>98.68</td>\n",
       "      <td>89.53</td>\n",
       "      <td>79.51</td>\n",
       "      <td>71.12</td>\n",
       "    </tr>\n",
       "    <tr>\n",
       "      <th>Albania</th>\n",
       "      <td>144.92</td>\n",
       "      <td>124.94</td>\n",
       "      <td>98.95</td>\n",
       "      <td>76.97</td>\n",
       "      <td>57.99</td>\n",
       "      <td>46.85</td>\n",
       "      <td>43.20</td>\n",
       "      <td>37.84</td>\n",
       "      <td>30.74</td>\n",
       "      <td>26.30</td>\n",
       "      <td>20.25</td>\n",
       "      <td>16.11</td>\n",
       "      <td>14.42</td>\n",
       "    </tr>\n",
       "    <tr>\n",
       "      <th>Algeria</th>\n",
       "      <td>163.06</td>\n",
       "      <td>153.57</td>\n",
       "      <td>142.88</td>\n",
       "      <td>132.35</td>\n",
       "      <td>122.25</td>\n",
       "      <td>105.50</td>\n",
       "      <td>75.37</td>\n",
       "      <td>55.38</td>\n",
       "      <td>47.67</td>\n",
       "      <td>41.92</td>\n",
       "      <td>37.45</td>\n",
       "      <td>34.18</td>\n",
       "      <td>30.28</td>\n",
       "    </tr>\n",
       "    <tr>\n",
       "      <th>Angola</th>\n",
       "      <td>230.82</td>\n",
       "      <td>215.04</td>\n",
       "      <td>200.16</td>\n",
       "      <td>186.20</td>\n",
       "      <td>173.03</td>\n",
       "      <td>160.95</td>\n",
       "      <td>157.11</td>\n",
       "      <td>153.18</td>\n",
       "      <td>150.66</td>\n",
       "      <td>138.01</td>\n",
       "      <td>116.05</td>\n",
       "      <td>104.35</td>\n",
       "      <td>96.22</td>\n",
       "    </tr>\n",
       "    <tr>\n",
       "      <th>Argentina</th>\n",
       "      <td>63.93</td>\n",
       "      <td>58.80</td>\n",
       "      <td>59.76</td>\n",
       "      <td>57.41</td>\n",
       "      <td>48.12</td>\n",
       "      <td>39.08</td>\n",
       "      <td>32.20</td>\n",
       "      <td>27.13</td>\n",
       "      <td>24.36</td>\n",
       "      <td>21.85</td>\n",
       "      <td>15.04</td>\n",
       "      <td>14.61</td>\n",
       "      <td>13.69</td>\n",
       "    </tr>\n",
       "  </tbody>\n",
       "</table>\n",
       "</div>"
      ],
      "text/plain": [
       "             1950-1955  1955-1960  1960-1965  1965-1970  1970-1975  1975-1980  \\\n",
       "Afghanistan     280.98     256.27     234.26     216.07     198.77     180.32   \n",
       "Albania         144.92     124.94      98.95      76.97      57.99      46.85   \n",
       "Algeria         163.06     153.57     142.88     132.35     122.25     105.50   \n",
       "Angola          230.82     215.04     200.16     186.20     173.03     160.95   \n",
       "Argentina        63.93      58.80      59.76      57.41      48.12      39.08   \n",
       "\n",
       "             1980-1985  1985-1990  1990-1995  1995-2000  2000-2005  2005-2010  \\\n",
       "Afghanistan     159.16     134.14     111.31      98.68      89.53      79.51   \n",
       "Albania          43.20      37.84      30.74      26.30      20.25      16.11   \n",
       "Algeria          75.37      55.38      47.67      41.92      37.45      34.18   \n",
       "Angola          157.11     153.18     150.66     138.01     116.05     104.35   \n",
       "Argentina        32.20      27.13      24.36      21.85      15.04      14.61   \n",
       "\n",
       "             2010-2015  \n",
       "Afghanistan      71.12  \n",
       "Albania          14.42  \n",
       "Algeria          30.28  \n",
       "Angola           96.22  \n",
       "Argentina        13.69  "
      ]
     },
     "execution_count": 13,
     "metadata": {},
     "output_type": "execute_result"
    }
   ],
   "source": [
    "IMtsv = pd.read_csv('InfantMortalityByTab.txt',sep='\\t',index_col=0) \n",
    "IMtsv.head()"
   ]
  },
  {
   "cell_type": "markdown",
   "metadata": {},
   "source": [
    "## Problem 3-2.\n",
    "<b>We need data from 1980-2015</b>\n",
    "<br><b>Drop data which is not necessary</b>"
   ]
  },
  {
   "cell_type": "code",
   "execution_count": 14,
   "metadata": {
    "collapsed": false
   },
   "outputs": [
    {
     "data": {
      "text/html": [
       "<div>\n",
       "<table border=\"1\" class=\"dataframe\">\n",
       "  <thead>\n",
       "    <tr style=\"text-align: right;\">\n",
       "      <th></th>\n",
       "      <th>1980-1985</th>\n",
       "      <th>1985-1990</th>\n",
       "      <th>1990-1995</th>\n",
       "      <th>1995-2000</th>\n",
       "      <th>2000-2005</th>\n",
       "      <th>2005-2010</th>\n",
       "      <th>2010-2015</th>\n",
       "    </tr>\n",
       "  </thead>\n",
       "  <tbody>\n",
       "    <tr>\n",
       "      <th>Afghanistan</th>\n",
       "      <td>159.16</td>\n",
       "      <td>134.14</td>\n",
       "      <td>111.31</td>\n",
       "      <td>98.68</td>\n",
       "      <td>89.53</td>\n",
       "      <td>79.51</td>\n",
       "      <td>71.12</td>\n",
       "    </tr>\n",
       "    <tr>\n",
       "      <th>Albania</th>\n",
       "      <td>43.20</td>\n",
       "      <td>37.84</td>\n",
       "      <td>30.74</td>\n",
       "      <td>26.30</td>\n",
       "      <td>20.25</td>\n",
       "      <td>16.11</td>\n",
       "      <td>14.42</td>\n",
       "    </tr>\n",
       "    <tr>\n",
       "      <th>Algeria</th>\n",
       "      <td>75.37</td>\n",
       "      <td>55.38</td>\n",
       "      <td>47.67</td>\n",
       "      <td>41.92</td>\n",
       "      <td>37.45</td>\n",
       "      <td>34.18</td>\n",
       "      <td>30.28</td>\n",
       "    </tr>\n",
       "    <tr>\n",
       "      <th>Angola</th>\n",
       "      <td>157.11</td>\n",
       "      <td>153.18</td>\n",
       "      <td>150.66</td>\n",
       "      <td>138.01</td>\n",
       "      <td>116.05</td>\n",
       "      <td>104.35</td>\n",
       "      <td>96.22</td>\n",
       "    </tr>\n",
       "    <tr>\n",
       "      <th>Argentina</th>\n",
       "      <td>32.20</td>\n",
       "      <td>27.13</td>\n",
       "      <td>24.36</td>\n",
       "      <td>21.85</td>\n",
       "      <td>15.04</td>\n",
       "      <td>14.61</td>\n",
       "      <td>13.69</td>\n",
       "    </tr>\n",
       "  </tbody>\n",
       "</table>\n",
       "</div>"
      ],
      "text/plain": [
       "             1980-1985  1985-1990  1990-1995  1995-2000  2000-2005  2005-2010  \\\n",
       "Afghanistan     159.16     134.14     111.31      98.68      89.53      79.51   \n",
       "Albania          43.20      37.84      30.74      26.30      20.25      16.11   \n",
       "Algeria          75.37      55.38      47.67      41.92      37.45      34.18   \n",
       "Angola          157.11     153.18     150.66     138.01     116.05     104.35   \n",
       "Argentina        32.20      27.13      24.36      21.85      15.04      14.61   \n",
       "\n",
       "             2010-2015  \n",
       "Afghanistan      71.12  \n",
       "Albania          14.42  \n",
       "Algeria          30.28  \n",
       "Angola           96.22  \n",
       "Argentina        13.69  "
      ]
     },
     "execution_count": 14,
     "metadata": {},
     "output_type": "execute_result"
    }
   ],
   "source": [
    "DroppedIMtsv = IMtsv.ix[0:,6:]\n",
    "DroppedIMtsv.head()"
   ]
  },
  {
   "cell_type": "code",
   "execution_count": 15,
   "metadata": {
    "collapsed": false,
    "scrolled": true
   },
   "outputs": [
    {
     "name": "stdout",
     "output_type": "stream",
     "text": [
      "<type 'numpy.float64'>\n"
     ]
    },
    {
     "data": {
      "text/html": [
       "<div>\n",
       "<table border=\"1\" class=\"dataframe\">\n",
       "  <thead>\n",
       "    <tr style=\"text-align: right;\">\n",
       "      <th></th>\n",
       "      <th>1980-1985</th>\n",
       "      <th>1985-1990</th>\n",
       "      <th>1990-1995</th>\n",
       "      <th>1995-2000</th>\n",
       "      <th>2000-2005</th>\n",
       "      <th>2005-2010</th>\n",
       "      <th>2010-2015</th>\n",
       "    </tr>\n",
       "  </thead>\n",
       "  <tbody>\n",
       "    <tr>\n",
       "      <th>count</th>\n",
       "      <td>175.000000</td>\n",
       "      <td>175.000000</td>\n",
       "      <td>175.000000</td>\n",
       "      <td>175.000000</td>\n",
       "      <td>175.000000</td>\n",
       "      <td>175.000000</td>\n",
       "      <td>175.000000</td>\n",
       "    </tr>\n",
       "    <tr>\n",
       "      <th>mean</th>\n",
       "      <td>63.491886</td>\n",
       "      <td>56.118971</td>\n",
       "      <td>51.617486</td>\n",
       "      <td>44.663029</td>\n",
       "      <td>38.529314</td>\n",
       "      <td>32.838629</td>\n",
       "      <td>28.074457</td>\n",
       "    </tr>\n",
       "    <tr>\n",
       "      <th>std</th>\n",
       "      <td>45.211616</td>\n",
       "      <td>42.409398</td>\n",
       "      <td>43.941457</td>\n",
       "      <td>36.962890</td>\n",
       "      <td>32.983143</td>\n",
       "      <td>28.707458</td>\n",
       "      <td>25.063410</td>\n",
       "    </tr>\n",
       "    <tr>\n",
       "      <th>min</th>\n",
       "      <td>6.400000</td>\n",
       "      <td>4.960000</td>\n",
       "      <td>4.440000</td>\n",
       "      <td>3.640000</td>\n",
       "      <td>2.500000</td>\n",
       "      <td>2.010000</td>\n",
       "      <td>1.580000</td>\n",
       "    </tr>\n",
       "    <tr>\n",
       "      <th>25%</th>\n",
       "      <td>22.445000</td>\n",
       "      <td>17.470000</td>\n",
       "      <td>15.950000</td>\n",
       "      <td>11.880000</td>\n",
       "      <td>9.500000</td>\n",
       "      <td>7.750000</td>\n",
       "      <td>6.625000</td>\n",
       "    </tr>\n",
       "    <tr>\n",
       "      <th>50%</th>\n",
       "      <td>52.530000</td>\n",
       "      <td>44.020000</td>\n",
       "      <td>40.460000</td>\n",
       "      <td>33.590000</td>\n",
       "      <td>27.000000</td>\n",
       "      <td>22.410000</td>\n",
       "      <td>19.320000</td>\n",
       "    </tr>\n",
       "    <tr>\n",
       "      <th>75%</th>\n",
       "      <td>96.535000</td>\n",
       "      <td>86.595000</td>\n",
       "      <td>79.700000</td>\n",
       "      <td>72.175000</td>\n",
       "      <td>61.180000</td>\n",
       "      <td>52.235000</td>\n",
       "      <td>46.480000</td>\n",
       "    </tr>\n",
       "    <tr>\n",
       "      <th>max</th>\n",
       "      <td>183.650000</td>\n",
       "      <td>157.780000</td>\n",
       "      <td>288.710000</td>\n",
       "      <td>148.920000</td>\n",
       "      <td>134.930000</td>\n",
       "      <td>116.970000</td>\n",
       "      <td>96.220000</td>\n",
       "    </tr>\n",
       "  </tbody>\n",
       "</table>\n",
       "</div>"
      ],
      "text/plain": [
       "        1980-1985   1985-1990   1990-1995   1995-2000   2000-2005   2005-2010  \\\n",
       "count  175.000000  175.000000  175.000000  175.000000  175.000000  175.000000   \n",
       "mean    63.491886   56.118971   51.617486   44.663029   38.529314   32.838629   \n",
       "std     45.211616   42.409398   43.941457   36.962890   32.983143   28.707458   \n",
       "min      6.400000    4.960000    4.440000    3.640000    2.500000    2.010000   \n",
       "25%     22.445000   17.470000   15.950000   11.880000    9.500000    7.750000   \n",
       "50%     52.530000   44.020000   40.460000   33.590000   27.000000   22.410000   \n",
       "75%     96.535000   86.595000   79.700000   72.175000   61.180000   52.235000   \n",
       "max    183.650000  157.780000  288.710000  148.920000  134.930000  116.970000   \n",
       "\n",
       "        2010-2015  \n",
       "count  175.000000  \n",
       "mean    28.074457  \n",
       "std     25.063410  \n",
       "min      1.580000  \n",
       "25%      6.625000  \n",
       "50%     19.320000  \n",
       "75%     46.480000  \n",
       "max     96.220000  "
      ]
     },
     "execution_count": 15,
     "metadata": {},
     "output_type": "execute_result"
    }
   ],
   "source": [
    "print type(DroppedIMtsv.ix[0,0])\n",
    "DroppedIMtsv.describe()\n",
    "\n"
   ]
  },
  {
   "cell_type": "markdown",
   "metadata": {
    "collapsed": true
   },
   "source": [
    "# Draw data as a plot\n",
    "\n",
    "## Problem 4-1. Define a function to draw catter plot which contained trendline.\n",
    "#### use .scatter from matplotlib library.\n",
    "- please print *<b>line equation</b>* and *<b>MSE(mean squared error)</b>* for each plots\n",
    "- matplotlib.pyplot.scatter: http://matplotlib.org/api/pyplot_api.html?highlight=scatter#matplotlib.pyplot.scatter\n",
    "- you can find example of trendline on matplotlib very easily."
   ]
  },
  {
   "cell_type": "code",
   "execution_count": 16,
   "metadata": {
    "collapsed": false,
    "scrolled": true
   },
   "outputs": [
    {
     "name": "stdout",
     "output_type": "stream",
     "text": [
      "y=0.037900x+(483.838967)\n",
      "MeanSquaredError:  71789.6724264\n"
     ]
    },
    {
     "data": {
      "image/png": "[encoded data removed]",
      "text/plain": [
       "<matplotlib.figure.Figure at 0x9d0c6a0>"
      ]
     },
     "metadata": {},
     "output_type": "display_data"
    }
   ],
   "source": [
    "def plot_2D_trendline(x_data, y_data, pred=None, x_label='X', y_label='Y', title=None):\n",
    "    plt.xlabel(x_label)\n",
    "    plt.ylabel(y_label)\n",
    "    plt.axis([min(x_data)-(max(x_data)-min(x_data))*0.2, max(x_data)*1.2, min(y_data)-(max(y_data)-min(y_data))*0.4, max(y_data)*1.2])\n",
    "    plt.scatter(x_data, y_data)\n",
    "    #plt.plot(x_data, pred, color='red', linewidth=2)\n",
    "    \n",
    "    #if pred is not None:\n",
    "    #    plt.plot(x_data, pred, color='red', linewidth=2)\n",
    "    if title is not None:\n",
    "        plt.title(title)\n",
    "        \n",
    "    \n",
    "    # the line equation:\n",
    "    (m,b) = np.polyfit(x_data,y_data,1)\n",
    "    #print m, b\n",
    "\n",
    "    #TODO\n",
    "    print \"y=%.6fx+(%.6f)\"%(m,b)\n",
    "    \n",
    "    t1 = np.arange(min(x_data),max(x_data)+1,1)\n",
    "    def f(t) :\n",
    "        return m*t+b\n",
    "\n",
    "    plt.plot(t1, f(t1), 'r--')\n",
    "    #print Mean Squared Error\n",
    "    a = np.float64(0)\n",
    "    for i in range (0,len(y_data)) :\n",
    "        c = float(y_data[i])-(float(x_data[i])*m + b)\n",
    "        c = c * c\n",
    "        a += c\n",
    "    \n",
    "    a /= len(y_data)\n",
    "    \n",
    "    #a = a**0.5\n",
    "    #print a, type(a)\n",
    "    mse = a\n",
    "    \n",
    "    print \"MeanSquaredError: \", mse\n",
    "    \n",
    "    \n",
    "    plt.show()\n",
    "\n",
    "# Let's see if the function works\n",
    "plot_2D_trendline(np.random.randint(1000,size=100),np.random.randint(1000,size=100))    \n",
    "\n"
   ]
  },
  {
   "cell_type": "markdown",
   "metadata": {},
   "source": [
    "## Problem 4-2. Draw scatter plot and trendline by using infant mortality rate and GDP per capita\n",
    "- x-axis: *GDP per cap*, y-axis: *infant mortality*\n",
    "- one plot per 5-year period (total 7 plots)\n",
    "- The trend line may seem somewhat meaningless, but it isn't problem now."
   ]
  },
  {
   "cell_type": "code",
   "execution_count": 17,
   "metadata": {
    "collapsed": false,
    "scrolled": true
   },
   "outputs": [
    {
     "name": "stdout",
     "output_type": "stream",
     "text": [
      "y=-0.004467x+(79.795520)\n",
      "MeanSquaredError:  1295.08362133\n"
     ]
    },
    {
     "data": {
      "image/png": "[encoded data removed]",
      "text/plain": [
       "<matplotlib.figure.Figure at 0xa9d9cf8>"
      ]
     },
     "metadata": {},
     "output_type": "display_data"
    },
    {
     "name": "stdout",
     "output_type": "stream",
     "text": [
      "y=-0.004280x+(75.134272)\n",
      "MeanSquaredError:  1038.2871104\n"
     ]
    },
    {
     "data": {
      "image/png": "[encoded data removed]",
      "text/plain": [
       "<matplotlib.figure.Figure at 0xae44f60>"
      ]
     },
     "metadata": {},
     "output_type": "display_data"
    },
    {
     "name": "stdout",
     "output_type": "stream",
     "text": [
      "y=-0.002717x+(66.470747)\n",
      "MeanSquaredError:  1348.3474651\n"
     ]
    },
    {
     "data": {
      "image/png": "[encoded data removed]",
      "text/plain": [
       "<matplotlib.figure.Figure at 0xb233cc0>"
      ]
     },
     "metadata": {},
     "output_type": "display_data"
    },
    {
     "name": "stdout",
     "output_type": "stream",
     "text": [
      "y=-0.002061x+(56.933848)\n",
      "MeanSquaredError:  883.535277015\n"
     ]
    },
    {
     "data": {
      "image/png": "[encoded data removed]",
      "text/plain": [
       "<matplotlib.figure.Figure at 0xb39b710>"
      ]
     },
     "metadata": {},
     "output_type": "display_data"
    },
    {
     "name": "stdout",
     "output_type": "stream",
     "text": [
      "y=-0.001587x+(49.877590)\n",
      "MeanSquaredError:  742.029427374\n"
     ]
    },
    {
     "data": {
      "image/png": "[encoded data removed]",
      "text/plain": [
       "<matplotlib.figure.Figure at 0xac94320>"
      ]
     },
     "metadata": {},
     "output_type": "display_data"
    },
    {
     "name": "stdout",
     "output_type": "stream",
     "text": [
      "y=-0.000886x+(42.974818)\n",
      "MeanSquaredError:  569.271857088\n"
     ]
    },
    {
     "data": {
      "image/png": "[encoded data removed]",
      "text/plain": [
       "<matplotlib.figure.Figure at 0xb78de10>"
      ]
     },
     "metadata": {},
     "output_type": "display_data"
    },
    {
     "name": "stdout",
     "output_type": "stream",
     "text": [
      "y=-0.000666x+(37.537413)\n",
      "MeanSquaredError:  449.286688019\n"
     ]
    },
    {
     "data": {
      "image/png": "[encoded data removed]",
      "text/plain": [
       "<matplotlib.figure.Figure at 0xc7b0c50>"
      ]
     },
     "metadata": {},
     "output_type": "display_data"
    }
   ],
   "source": [
    "resulttsvS = resulttsv.sort_index()\n",
    "#print resulttsvS.index\n",
    "#print DroppedIMtsv.index\n",
    "#count = 0\n",
    "sNat = []\n",
    "for s in resulttsvS.index :\n",
    "    for v in DroppedIMtsv.index :\n",
    "        if s == v :\n",
    "            #print s, v\n",
    "#            count = count + 1\n",
    "            sNat.append(v)\n",
    "#print len(sNat)\n",
    "#resulttsvS = resulttsvS[DroppedIMtsv.index]\n",
    "#print resulttsvS\n",
    "\n",
    "for years in DroppedIMtsv.columns:\n",
    "    xData=[]\n",
    "    yData=[]\n",
    "\n",
    "    #TODO\n",
    "        \n",
    "    xData = resulttsvS[years]\n",
    "    yData = DroppedIMtsv[years]\n",
    "    x1Data =[]\n",
    "    y1Data=[]\n",
    "    for i in range (0,len(sNat)) :\n",
    "        if (not np.isnan(xData[sNat[i]])) and (not np.isnan(yData[sNat[i]])) :\n",
    "            x1Data.append(xData[sNat[i]])\n",
    "            y1Data.append(yData[sNat[i]])\n",
    "    xData = x1Data\n",
    "    yData = y1Data\n",
    "    #print x1Data, y1Data\n",
    "    #plt.axis([max(xData)*(-0.3), max(xData)*1.3, max(yData)*(-0.7), max(yData)*1.3])\n",
    "    plot_2D_trendline(xData, yData, x_label='GDP per Cap', y_label='Infant Mortality', title=years)\n"
   ]
  },
  {
   "cell_type": "markdown",
   "metadata": {},
   "source": [
    "## Problem 4-3. Let's make trend line meaningful.\n",
    "- As mentioned, the trend line is somewhat meaningless.\n",
    "- By applying a *<b>logarithmic scale</b>* on the data, you can make trendlines more meaningful.\n",
    "<br/>    ** hint: Most of mathmetical functions in python can be found in numpy.*"
   ]
  },
  {
   "cell_type": "code",
   "execution_count": 18,
   "metadata": {
    "collapsed": false,
    "scrolled": true
   },
   "outputs": [
    {
     "name": "stdout",
     "output_type": "stream",
     "text": [
      "y=-0.558583x+(7.915536)\n",
      "MeanSquaredError:  0.285234924611\n"
     ]
    },
    {
     "data": {
      "image/png": "[encoded data removed]",
      "text/plain": [
       "<matplotlib.figure.Figure at 0xabd6978>"
      ]
     },
     "metadata": {},
     "output_type": "display_data"
    },
    {
     "name": "stdout",
     "output_type": "stream",
     "text": [
      "y=-0.582474x+(7.968609)\n",
      "MeanSquaredError:  0.216815674901\n"
     ]
    },
    {
     "data": {
      "image/png": "[encoded data removed]",
      "text/plain": [
       "<matplotlib.figure.Figure at 0xceccf60>"
      ]
     },
     "metadata": {},
     "output_type": "display_data"
    },
    {
     "name": "stdout",
     "output_type": "stream",
     "text": [
      "y=-0.543781x+(7.557428)\n",
      "MeanSquaredError:  0.275778854189\n"
     ]
    },
    {
     "data": {
      "image/png": "[encoded data removed]",
      "text/plain": [
       "<matplotlib.figure.Figure at 0xc2bce10>"
      ]
     },
     "metadata": {},
     "output_type": "display_data"
    },
    {
     "name": "stdout",
     "output_type": "stream",
     "text": [
      "y=-0.603418x+(7.931350)\n",
      "MeanSquaredError:  0.222935035332\n"
     ]
    },
    {
     "data": {
      "image/png": "[encoded data removed]",
      "text/plain": [
       "<matplotlib.figure.Figure at 0xcaf7828>"
      ]
     },
     "metadata": {},
     "output_type": "display_data"
    },
    {
     "name": "stdout",
     "output_type": "stream",
     "text": [
      "y=-0.598712x+(7.783229)\n",
      "MeanSquaredError:  0.245483560755\n"
     ]
    },
    {
     "data": {
      "image/png": "[encoded data removed]",
      "text/plain": [
       "<matplotlib.figure.Figure at 0xcca22e8>"
      ]
     },
     "metadata": {},
     "output_type": "display_data"
    },
    {
     "name": "stdout",
     "output_type": "stream",
     "text": [
      "y=-0.611121x+(8.036440)\n",
      "MeanSquaredError:  0.271744682602\n"
     ]
    },
    {
     "data": {
      "image/png": "[encoded data removed]",
      "text/plain": [
       "<matplotlib.figure.Figure at 0xc7bd1d0>"
      ]
     },
     "metadata": {},
     "output_type": "display_data"
    },
    {
     "name": "stdout",
     "output_type": "stream",
     "text": [
      "y=-0.647810x+(8.370280)\n",
      "MeanSquaredError:  0.327370336004\n"
     ]
    },
    {
     "data": {
      "image/png": "[encoded data removed]",
      "text/plain": [
       "<matplotlib.figure.Figure at 0xceccf98>"
      ]
     },
     "metadata": {},
     "output_type": "display_data"
    }
   ],
   "source": [
    "for years in DroppedIMtsv.columns:\n",
    "    xDataLog=[]\n",
    "    yDataLog=[]\n",
    "    \n",
    "    xData = resulttsvS[years]\n",
    "    yData = DroppedIMtsv[years]\n",
    "    x1Data =[]\n",
    "    y1Data=[]\n",
    "    for i in range (0,len(sNat)) :\n",
    "        if (not np.isnan(xData[sNat[i]])) and (not np.isnan(yData[sNat[i]])) :\n",
    "            x1Data.append(xData[sNat[i]])\n",
    "            y1Data.append(yData[sNat[i]])\n",
    "    xDataLog = x1Data\n",
    "    yDataLog = y1Data\n",
    "    \n",
    "    for i in range (0, len(xDataLog)) :\n",
    "        xDataLog[i] = np.log(xDataLog[i])\n",
    "    for i in range (0, len(yDataLog)) :\n",
    "        yDataLog[i] = np.log(yDataLog[i])\n",
    "    plot_2D_trendline(xDataLog, yDataLog, x_label='GDP per Cap(Log Scale)', y_label='Infant Mortality (Log Scale)', title=years+\" (Log Scale)\")\n"
   ]
  },
  {
   "cell_type": "markdown",
   "metadata": {
    "collapsed": false
   },
   "source": [
    "# Scikit-Learn\n",
    "* Scikit-learn is the most common python library in machine learning.\n",
    "* Let's port our work from matplotlib to scikit-learn.\n",
    "* However, not all plots will be handled. We will focus on the most recent data, 2010-2015.\n",
    "\n",
    "<b>URL:</b> http://scikit-learn.org/\n",
    "<br/><b>Install guide:</b> http://scikit-learn.org/stable/install.html"
   ]
  },
  {
   "cell_type": "markdown",
   "metadata": {},
   "source": [
    "## Problem 5. Import scikit-learn\n",
    "- If the installation of the library is complete, this code will run without any problems."
   ]
  },
  {
   "cell_type": "code",
   "execution_count": 19,
   "metadata": {
    "collapsed": true
   },
   "outputs": [],
   "source": [
    "from sklearn.linear_model import LinearRegression\n",
    "from sklearn.metrics import mean_squared_error"
   ]
  },
  {
   "cell_type": "markdown",
   "metadata": {},
   "source": [
    "## Problem 5-1. Applying the linear regression model of scikit-learn to our data\n",
    "- Information about the various model api is available at the following url:<br/>&nbsp;&nbsp;&nbsp;&nbsp;&nbsp;&nbsp;http://scikit-learn.org/stable/modules/classes.html\n",
    "- *Apply regression model for 2010-2015 data only.*\n",
    "- Please print MSE of implemented model."
   ]
  },
  {
   "cell_type": "code",
   "execution_count": 20,
   "metadata": {
    "collapsed": false
   },
   "outputs": [
    {
     "name": "stdout",
     "output_type": "stream",
     "text": [
      "MSE - scikit learn linear regression:  449.286688019\n"
     ]
    }
   ],
   "source": [
    "lr = LinearRegression()\n",
    "\n",
    "years = DroppedIMtsv.columns[-1]\n",
    "xData=[]\n",
    "yData=[]\n",
    "\n",
    "#TODO\n",
    "xData = resulttsvS[years]\n",
    "yData = DroppedIMtsv[years]\n",
    "x1Data =[]\n",
    "y1Data = []\n",
    "\n",
    "#print len(xData),len(yData), len(sNat)\n",
    "for i in range (0,len(sNat)) :\n",
    "    if (not np.isnan(xData[sNat[i]])) and (not np.isnan(yData[sNat[i]])) :\n",
    "        x1Data.append(xData[sNat[i]])\n",
    "        y1Data.append(yData[sNat[i]])\n",
    "    else :\n",
    "        i = i + 1\n",
    "xData = x1Data\n",
    "yData = y1Data\n",
    "#print oneAr, len(oneAr)\n",
    "\n",
    "#xData = np.array(xData)\n",
    "#yData = np.array(yData)\n",
    "\n",
    "xData = (np.transpose(np.matrix(xData)))\n",
    "#yData = (np.transpose(np.matrix(yData)))\n",
    "\n",
    "#regr.fit(np.transpose(np.matrix(x_list)), np.transpose(np.matrix(y_list)))\n",
    "lr.fit(xData,yData)\n",
    "#lr.fit(xData, yData)\n",
    "print \"MSE - scikit learn linear regression: \", mean_squared_error(lr.predict(xData), yData)"
   ]
  },
  {
   "cell_type": "markdown",
   "metadata": {},
   "source": [
    "## Problem 5-2. Expanded to polynomial regression\n",
    "- Let's look at the performance change by changing the degree in 0-9.\n",
    "- Normalization should also be followed.\n",
    "\n",
    "*hint: You can use an additional API to implement the polynomial regression model.*"
   ]
  },
  {
   "cell_type": "code",
   "execution_count": 21,
   "metadata": {
    "collapsed": false,
    "scrolled": true
   },
   "outputs": [
    {
     "name": "stdout",
     "output_type": "stream",
     "text": [
      "MSE - poly-linear regression; degree= 0 :  632.561941032\n",
      "MSE - poly-linear regression; degree= 1 :  449.286688019\n",
      "MSE - poly-linear regression; degree= 2 :  364.032958026\n",
      "MSE - poly-linear regression; degree= 3 :  302.116977901\n",
      "MSE - poly-linear regression; degree= 4 :  273.703515239\n",
      "MSE - poly-linear regression; degree= 5 :  246.139935231\n",
      "MSE - poly-linear regression; degree= 6 :  234.792066336\n",
      "MSE - poly-linear regression; degree= 7 :  230.909613788\n",
      "MSE - poly-linear regression; degree= 8 :  228.785662545\n",
      "MSE - poly-linear regression; degree= 9 :  227.006126687\n"
     ]
    }
   ],
   "source": [
    "#TODO: import api(s) to implement the polynomial regression model\n",
    "from sklearn.linear_model import Ridge\n",
    "from sklearn.preprocessing import PolynomialFeatures\n",
    "from sklearn.pipeline import make_pipeline\n",
    "\n",
    "for deg in range(10):\n",
    "    #lr1 = LinearRegression(normalize=True)\n",
    "    PolynomialRegression = PolynomialFeatures(deg)\n",
    "    \n",
    "    xData = (np.transpose(np.matrix(x1Data)))\n",
    "    plr = make_pipeline(PolynomialRegression, Ridge())\n",
    "    plr.fit(xData,yData)\n",
    "    \n",
    "    #plr = PolynomialRegression.fit(xData, yData)\n",
    "    \n",
    "    #print plr.predict(xData)[1]\n",
    "\n",
    "    print \"MSE - poly-linear regression; degree=\", deg,\": \", mean_squared_error(plr.predict(xData), yData)"
   ]
  },
  {
   "cell_type": "markdown",
   "metadata": {},
   "source": [
    "## Problem 5-3. The change in performance according to the degree can be confirmed. Is performance improvement reliable? Describe the problem of current method."
   ]
  },
  {
   "cell_type": "raw",
   "metadata": {},
   "source": [
    "Training data set만 있고, Test data set이 없어서 Training set을 통한 traing의 결과만으로는 이 모델이 정말 제대로 동작하는지 정확히 확인할 수 없다."
   ]
  },
  {
   "cell_type": "markdown",
   "metadata": {},
   "source": [
    "## Problem 5-4. To solve the problem mentioned above, you must divide the train set and the test set. Try experimenting by assigning 20% of the total sample to a test set.\n",
    "- Please print MSEs of implemented model, for both of training and test set.\n",
    "- Degree is the same as the previous experiment, 0-9.\n",
    "\n",
    "*hint: Implementing it yourself can be a good experience, but using scikit-learn would make it easy to solve this problem.*"
   ]
  },
  {
   "cell_type": "code",
   "execution_count": 22,
   "metadata": {
    "collapsed": false
   },
   "outputs": [
    {
     "name": "stdout",
     "output_type": "stream",
     "text": [
      "MSE - sklearn poly-linear regression; degree= 0 \n",
      "\ttrain:  636.142466103 ,\tval:  618.239840749\n",
      "MSE - sklearn poly-linear regression; degree= 1 \n",
      "\ttrain:  461.218386822 ,\tval:  401.55989281\n",
      "MSE - sklearn poly-linear regression; degree= 2 \n",
      "\ttrain:  379.685642485 ,\tval:  301.422220191\n",
      "MSE - sklearn poly-linear regression; degree= 3 \n",
      "\ttrain:  323.435585251 ,\tval:  216.842548502\n",
      "MSE - sklearn poly-linear regression; degree= 4 \n",
      "\ttrain:  292.653464223 ,\tval:  197.903719305\n",
      "MSE - sklearn poly-linear regression; degree= 5 \n",
      "\ttrain:  259.609700185 ,\tval:  192.260875416\n",
      "MSE - sklearn poly-linear regression; degree= 6 \n",
      "\ttrain:  243.223854808 ,\tval:  201.06491245\n",
      "MSE - sklearn poly-linear regression; degree= 7 \n",
      "\ttrain:  236.520215073 ,\tval:  208.467208646\n",
      "MSE - sklearn poly-linear regression; degree= 8 \n",
      "\ttrain:  231.849796592 ,\tval:  216.529126358\n",
      "MSE - sklearn poly-linear regression; degree= 9 \n",
      "\ttrain:  227.813417245 ,\tval:  223.776964456\n"
     ]
    }
   ],
   "source": [
    "#TODO: import API for deviding training and test set\n",
    "from sklearn.model_selection import train_test_split\n",
    "\n",
    "x_train, x_val, y_train, y_val = train_test_split(xData,yData,test_size=0.20)\n",
    "\n",
    "for deg in range(10):\n",
    "    #PolynomialRegression = #TODO: as above (Prob. 5-2)\n",
    "    PolynomialRegression = PolynomialFeatures(deg)\n",
    "    \n",
    "    xData = (np.transpose(np.matrix(x1Data)))\n",
    "    plr = make_pipeline(PolynomialRegression, Ridge())\n",
    "    plr.fit(xData,yData)\n",
    "    \n",
    "    #plr = PolynomialRegression.fit(x_train, y_train)\n",
    "    print \"MSE - sklearn poly-linear regression; degree=\", deg,\"\\n\\ttrain: \", mean_squared_error(plr.predict(x_train), y_train), \",\\tval: \", mean_squared_error(plr.predict(x_val), y_val)\n",
    "    #print \"MSE - poly-linear regression; degree=\", deg,\": \", mean_squared_error(plr.predict(xData), yData)"
   ]
  },
  {
   "cell_type": "markdown",
   "metadata": {
    "collapsed": true
   },
   "source": [
    "# Problem 6. We currently use only one feature called GDP per capita. If you want to improve performance, you will need to add features. Present other valid features and describe why you think so.\n",
    "- You only need to collect the URL. You do not need to collect data or conduct further experiments."
   ]
  },
  {
   "cell_type": "markdown",
   "metadata": {},
   "source": [
    "- 남아 선호 사상의 여부 : 남아 선호 사상이 있었다면, 남자 아이가 태어나면 살려두고, 여자 아이가 태어나면 죽였을 수 있으니 infant mortality에 영향을 미칠 수 있다.\n",
    "- 병원의 갯수 : 만약, 영유아를 위한 병원이 없는 나라와 있는 나라가 있다면, 있는 나라는 유아가 아플 때 바로 치료를 할 수 있지만, 병원이 없는 나라는 기도만 할 수 있기 때문에 infant mortality에 영향을 미칠 것이다.\n",
    "- 가난한 사람의 비율 : 돈 문제로 영유아를 치료할 수 없는 사람들의 비율이 높다면, 죽는 영유아가 많을 것이다. https://en.wikipedia.org/wiki/List_of_countries_by_percentage_of_population_living_in_poverty"
   ]
  },
  {
   "cell_type": "markdown",
   "metadata": {
    "collapsed": true
   },
   "source": []
  }
 ],
 "metadata": {
  "anaconda-cloud": {},
  "kernelspec": {
   "display_name": "Python 2",
   "language": "python",
   "name": "python2"
  },
  "language_info": {
   "codemirror_mode": {
    "name": "ipython",
    "version": 2
   },
   "file_extension": ".py",
   "mimetype": "text/x-python",
   "name": "python",
   "nbconvert_exporter": "python",
   "pygments_lexer": "ipython2",
   "version": "2.7.13"
  }
 },
 "nbformat": 4,
 "nbformat_minor": 0
}
