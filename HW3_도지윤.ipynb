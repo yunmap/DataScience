{
 "cells": [
  {
   "cell_type": "markdown",
   "metadata": {},
   "source": [
    "# Homework3 \n",
    "#### In this assignment, you will design, implement, and evaluate the appropriate models for given data.\n",
    "### Goal of this assignment is to help you to solve HW4. (which  takes high  proportion of grading)<br><br><i>Do your best to solve the problems below, but don't be too intence on HW3 in order not to be exhausted.</i>\n",
    "<br>\n",
    "Version 1 (2017-04-07 pm 03:00) \n",
    "\n",
    "* Datasets which included in Scikit-learn will be used.\n",
    "* Perform the steps described below selectively(i.e. on your choice) for each dataset.\n",
    ">0. Preprocess; normalization, feature selection, etc.\n",
    ">1. Model selection; characteristics of datasets need to be comprehended.\n",
    ">2. Evaluation; This step should be done properly to prevent overfitting problem.\n",
    ">3. Enhancement; parameter tuning and feature selection, etc."
   ]
  },
  {
   "cell_type": "code",
   "execution_count": 1,
   "metadata": {
    "collapsed": true
   },
   "outputs": [],
   "source": [
    "import sklearn\n",
    "from sklearn import datasets\n",
    "import numpy as np\n",
    "import matplotlib.pyplot as plt\n",
    "import scipy.stats as stats\n",
    "import pandas as pd\n",
    "from sklearn.metrics import mean_squared_error"
   ]
  },
  {
   "cell_type": "markdown",
   "metadata": {},
   "source": [
    "## Dataset 1: Boston house-prices dataset\n",
    "\n",
    "* <h3>GOAL<br>: Predict <b>house price</b> using given features.</h3>\n",
    "* First, you need to check <b>shape of dataset</b>; # of samples, # of features"
   ]
  },
  {
   "cell_type": "code",
   "execution_count": 2,
   "metadata": {
    "collapsed": false
   },
   "outputs": [
    {
     "name": "stdout",
     "output_type": "stream",
     "text": [
      "Total samples available: 506\n",
      "Total features available: 13\n"
     ]
    }
   ],
   "source": [
    "boston = datasets.load_boston()\n",
    "#Let's check shape of dataset. How many samples and features do you received?\n",
    "n_samples = boston.data.shape[0]\n",
    "n_features = boston.data.shape[1]\n",
    "\n",
    "print \"Total samples available:\", n_samples\n",
    "print \"Total features available:\", n_features"
   ]
  },
  {
   "cell_type": "markdown",
   "metadata": {},
   "source": [
    "* You can check information of each featurea from below table.\n",
    "\n",
    "| Feature | Description |\n",
    "|-----------------|-------------------------|\n",
    "|CRIM|     per capita crime rate by town|\n",
    "|ZN       |proportion of residential land zoned for lots over 25,000 sq.ft.|\n",
    "|INDUS|    proportion of non-retail business acres per town|\n",
    "|CHAS  |   Charles River dummy variable (= 1 if tract bounds river; 0 otherwise)|\n",
    "|NOX    |  nitric oxides concentration (parts per 10 million)|\n",
    "|RM    |   average number of rooms per dwelling|\n",
    "|AGE   |   proportion of owner-occupied units built prior to 1940|\n",
    "|DIS    |  weighted distances to five Boston employment centres|\n",
    "|RAD   |   index of accessibility to radial highways|\n",
    "|TAX   |   full-value property-tax rate per one thousand dollor |\n",
    "|PTRATIO|  pupil-teacher ratio by town |\n",
    "|B      |  1000(Bk - 0.63)^2 where Bk is the proportion of blacks by town|\n",
    "|LSTAT  |  % lower status of the population|\n",
    "##### <center>Table: Feature information of Boston house-price data set</center>\n"
   ]
  },
  {
   "cell_type": "markdown",
   "metadata": {},
   "source": [
    "###  Analyze and evaluate given data.\n",
    "\n",
    "> *There are no guidelines or strict answers for this assignment.<br/>\n",
    "> <b>Try various methods to improve model performance</b>, but the reason for your choice should be attached in this report.*\n",
    "\n",
    "> \\* Be careful not to make errors such as overfitting problem.<br/>\n",
    "\n",
    "> *(As an example of \"various methods\", some irrelevant/less relevant features can be removed. It can be done by human intuition, as well as through machine learning models. a.k.a. feature selection (Step 4))*"
   ]
  },
  {
   "cell_type": "markdown",
   "metadata": {},
   "source": [
    "## Step 1: Preprocess\n",
    "- Let's apply various preprocessing operations which we learned in lecture / assignments.\n",
    "- Try best to choose correct preprocessing method for each feature types.<br/>\n",
    "\\* *hint: First, you need to know how values of each features look like.*"
   ]
  },
  {
   "cell_type": "code",
   "execution_count": 3,
   "metadata": {
    "collapsed": false
   },
   "outputs": [],
   "source": [
    "tsv = pd.DataFrame(boston.data)"
   ]
  },
  {
   "cell_type": "code",
   "execution_count": 4,
   "metadata": {
    "collapsed": false
   },
   "outputs": [
    {
     "data": {
      "text/html": [
       "<div>\n",
       "<table border=\"1\" class=\"dataframe\">\n",
       "  <thead>\n",
       "    <tr style=\"text-align: right;\">\n",
       "      <th></th>\n",
       "      <th>CRIM</th>\n",
       "      <th>ZN</th>\n",
       "      <th>INDUS</th>\n",
       "      <th>CHAS</th>\n",
       "      <th>NOX</th>\n",
       "      <th>RM</th>\n",
       "      <th>AGE</th>\n",
       "      <th>DIS</th>\n",
       "      <th>RAD</th>\n",
       "      <th>TAX</th>\n",
       "      <th>PTRATIO</th>\n",
       "      <th>B</th>\n",
       "      <th>LSTAT</th>\n",
       "    </tr>\n",
       "  </thead>\n",
       "  <tbody>\n",
       "    <tr>\n",
       "      <th>0</th>\n",
       "      <td>0.00632</td>\n",
       "      <td>18.0</td>\n",
       "      <td>2.31</td>\n",
       "      <td>0.0</td>\n",
       "      <td>0.538</td>\n",
       "      <td>6.575</td>\n",
       "      <td>65.2</td>\n",
       "      <td>4.0900</td>\n",
       "      <td>1.0</td>\n",
       "      <td>296.0</td>\n",
       "      <td>15.3</td>\n",
       "      <td>396.90</td>\n",
       "      <td>4.98</td>\n",
       "    </tr>\n",
       "    <tr>\n",
       "      <th>1</th>\n",
       "      <td>0.02731</td>\n",
       "      <td>0.0</td>\n",
       "      <td>7.07</td>\n",
       "      <td>0.0</td>\n",
       "      <td>0.469</td>\n",
       "      <td>6.421</td>\n",
       "      <td>78.9</td>\n",
       "      <td>4.9671</td>\n",
       "      <td>2.0</td>\n",
       "      <td>242.0</td>\n",
       "      <td>17.8</td>\n",
       "      <td>396.90</td>\n",
       "      <td>9.14</td>\n",
       "    </tr>\n",
       "    <tr>\n",
       "      <th>2</th>\n",
       "      <td>0.02729</td>\n",
       "      <td>0.0</td>\n",
       "      <td>7.07</td>\n",
       "      <td>0.0</td>\n",
       "      <td>0.469</td>\n",
       "      <td>7.185</td>\n",
       "      <td>61.1</td>\n",
       "      <td>4.9671</td>\n",
       "      <td>2.0</td>\n",
       "      <td>242.0</td>\n",
       "      <td>17.8</td>\n",
       "      <td>392.83</td>\n",
       "      <td>4.03</td>\n",
       "    </tr>\n",
       "    <tr>\n",
       "      <th>3</th>\n",
       "      <td>0.03237</td>\n",
       "      <td>0.0</td>\n",
       "      <td>2.18</td>\n",
       "      <td>0.0</td>\n",
       "      <td>0.458</td>\n",
       "      <td>6.998</td>\n",
       "      <td>45.8</td>\n",
       "      <td>6.0622</td>\n",
       "      <td>3.0</td>\n",
       "      <td>222.0</td>\n",
       "      <td>18.7</td>\n",
       "      <td>394.63</td>\n",
       "      <td>2.94</td>\n",
       "    </tr>\n",
       "    <tr>\n",
       "      <th>4</th>\n",
       "      <td>0.06905</td>\n",
       "      <td>0.0</td>\n",
       "      <td>2.18</td>\n",
       "      <td>0.0</td>\n",
       "      <td>0.458</td>\n",
       "      <td>7.147</td>\n",
       "      <td>54.2</td>\n",
       "      <td>6.0622</td>\n",
       "      <td>3.0</td>\n",
       "      <td>222.0</td>\n",
       "      <td>18.7</td>\n",
       "      <td>396.90</td>\n",
       "      <td>5.33</td>\n",
       "    </tr>\n",
       "  </tbody>\n",
       "</table>\n",
       "</div>"
      ],
      "text/plain": [
       "      CRIM    ZN  INDUS  CHAS    NOX     RM   AGE     DIS  RAD    TAX  \\\n",
       "0  0.00632  18.0   2.31   0.0  0.538  6.575  65.2  4.0900  1.0  296.0   \n",
       "1  0.02731   0.0   7.07   0.0  0.469  6.421  78.9  4.9671  2.0  242.0   \n",
       "2  0.02729   0.0   7.07   0.0  0.469  7.185  61.1  4.9671  2.0  242.0   \n",
       "3  0.03237   0.0   2.18   0.0  0.458  6.998  45.8  6.0622  3.0  222.0   \n",
       "4  0.06905   0.0   2.18   0.0  0.458  7.147  54.2  6.0622  3.0  222.0   \n",
       "\n",
       "   PTRATIO       B  LSTAT  \n",
       "0     15.3  396.90   4.98  \n",
       "1     17.8  396.90   9.14  \n",
       "2     17.8  392.83   4.03  \n",
       "3     18.7  394.63   2.94  \n",
       "4     18.7  396.90   5.33  "
      ]
     },
     "execution_count": 4,
     "metadata": {},
     "output_type": "execute_result"
    }
   ],
   "source": [
    "tsv.columns = boston.feature_names\n",
    "tsv.head()"
   ]
  },
  {
   "cell_type": "code",
   "execution_count": 5,
   "metadata": {
    "collapsed": false
   },
   "outputs": [],
   "source": [
    "tsv['PRICE'] = boston.target\n",
    "#print tsv['PRICE']"
   ]
  },
  {
   "cell_type": "markdown",
   "metadata": {},
   "source": [
    "## Step 2: Select appropriate model\n",
    "- Is it a <b>regression problem</b>? or a <b>classification problem</b>?\n",
    "- There are various models, most of them are *avilable as API*. (we recommend you to browse them in scikit-learn)\n",
    "- We can not decide which model will have better performance.<br/>(Although the model is limited by the size of the data and the number of samples)\n",
    "- So, list models which, you think, will perform good. (import them)"
   ]
  },
  {
   "cell_type": "code",
   "execution_count": 6,
   "metadata": {
    "collapsed": true
   },
   "outputs": [],
   "source": [
    "#TODO: Import APIs which you want to use\n",
    "from sklearn.linear_model import LinearRegression"
   ]
  },
  {
   "cell_type": "code",
   "execution_count": 7,
   "metadata": {
    "collapsed": false
   },
   "outputs": [],
   "source": [
    "X = tsv.drop('PRICE', axis = 1)\n",
    "\n",
    "lr = LinearRegression()"
   ]
  },
  {
   "cell_type": "code",
   "execution_count": 8,
   "metadata": {
    "collapsed": false
   },
   "outputs": [
    {
     "data": {
      "text/plain": [
       "LinearRegression(copy_X=True, fit_intercept=True, n_jobs=1, normalize=False)"
      ]
     },
     "execution_count": 8,
     "metadata": {},
     "output_type": "execute_result"
    }
   ],
   "source": [
    "lr.fit(X, tsv.PRICE)"
   ]
  },
  {
   "cell_type": "code",
   "execution_count": 9,
   "metadata": {
    "collapsed": false
   },
   "outputs": [
    {
     "data": {
      "text/html": [
       "<div>\n",
       "<table border=\"1\" class=\"dataframe\">\n",
       "  <thead>\n",
       "    <tr style=\"text-align: right;\">\n",
       "      <th></th>\n",
       "      <th>features</th>\n",
       "      <th>estimatedCoefficients</th>\n",
       "    </tr>\n",
       "  </thead>\n",
       "  <tbody>\n",
       "    <tr>\n",
       "      <th>0</th>\n",
       "      <td>CRIM</td>\n",
       "      <td>-0.107171</td>\n",
       "    </tr>\n",
       "    <tr>\n",
       "      <th>1</th>\n",
       "      <td>ZN</td>\n",
       "      <td>0.046395</td>\n",
       "    </tr>\n",
       "    <tr>\n",
       "      <th>2</th>\n",
       "      <td>INDUS</td>\n",
       "      <td>0.020860</td>\n",
       "    </tr>\n",
       "    <tr>\n",
       "      <th>3</th>\n",
       "      <td>CHAS</td>\n",
       "      <td>2.688561</td>\n",
       "    </tr>\n",
       "    <tr>\n",
       "      <th>4</th>\n",
       "      <td>NOX</td>\n",
       "      <td>-17.795759</td>\n",
       "    </tr>\n",
       "    <tr>\n",
       "      <th>5</th>\n",
       "      <td>RM</td>\n",
       "      <td>3.804752</td>\n",
       "    </tr>\n",
       "    <tr>\n",
       "      <th>6</th>\n",
       "      <td>AGE</td>\n",
       "      <td>0.000751</td>\n",
       "    </tr>\n",
       "    <tr>\n",
       "      <th>7</th>\n",
       "      <td>DIS</td>\n",
       "      <td>-1.475759</td>\n",
       "    </tr>\n",
       "    <tr>\n",
       "      <th>8</th>\n",
       "      <td>RAD</td>\n",
       "      <td>0.305655</td>\n",
       "    </tr>\n",
       "    <tr>\n",
       "      <th>9</th>\n",
       "      <td>TAX</td>\n",
       "      <td>-0.012329</td>\n",
       "    </tr>\n",
       "    <tr>\n",
       "      <th>10</th>\n",
       "      <td>PTRATIO</td>\n",
       "      <td>-0.953464</td>\n",
       "    </tr>\n",
       "    <tr>\n",
       "      <th>11</th>\n",
       "      <td>B</td>\n",
       "      <td>0.009393</td>\n",
       "    </tr>\n",
       "    <tr>\n",
       "      <th>12</th>\n",
       "      <td>LSTAT</td>\n",
       "      <td>-0.525467</td>\n",
       "    </tr>\n",
       "  </tbody>\n",
       "</table>\n",
       "</div>"
      ],
      "text/plain": [
       "   features  estimatedCoefficients\n",
       "0      CRIM              -0.107171\n",
       "1        ZN               0.046395\n",
       "2     INDUS               0.020860\n",
       "3      CHAS               2.688561\n",
       "4       NOX             -17.795759\n",
       "5        RM               3.804752\n",
       "6       AGE               0.000751\n",
       "7       DIS              -1.475759\n",
       "8       RAD               0.305655\n",
       "9       TAX              -0.012329\n",
       "10  PTRATIO              -0.953464\n",
       "11        B               0.009393\n",
       "12    LSTAT              -0.525467"
      ]
     },
     "execution_count": 9,
     "metadata": {},
     "output_type": "execute_result"
    }
   ],
   "source": [
    "pd.DataFrame(zip(X.columns, lr.coef_), columns = ['features', 'estimatedCoefficients'])"
   ]
  },
  {
   "cell_type": "code",
   "execution_count": 10,
   "metadata": {
    "collapsed": false
   },
   "outputs": [
    {
     "data": {
      "image/png": "[encoded data removed]",
      "text/plain": [
       "<matplotlib.figure.Figure at 0xb9a5828>"
      ]
     },
     "metadata": {},
     "output_type": "display_data"
    }
   ],
   "source": [
    "plt.scatter(tsv.RM, tsv.PRICE)\n",
    "plt.xlabel(\"Average number of rooms per dwelling (RM)\")\n",
    "plt.ylabel(\"Housing Price\")\n",
    "plt.title(\"Relationship between RM and Price\")\n",
    "plt.show()"
   ]
  },
  {
   "cell_type": "code",
   "execution_count": 11,
   "metadata": {
    "collapsed": false
   },
   "outputs": [
    {
     "data": {
      "image/png": "[encoded data removed]",
      "text/plain": [
       "<matplotlib.figure.Figure at 0xb9a5320>"
      ]
     },
     "metadata": {},
     "output_type": "display_data"
    }
   ],
   "source": [
    "plt.scatter(tsv.PRICE, lr.predict(X))\n",
    "plt.xlabel(\"Prices : $Y_i$\")\n",
    "plt.ylabel(\"Predicted prices : $\\hat{Y}_i$\")\n",
    "plt.title(\"Prices vs Predicted Prices : $Y_i$ vs $\\hat{Y}_i$\")\n",
    "plt.show()"
   ]
  },
  {
   "cell_type": "code",
   "execution_count": 12,
   "metadata": {
    "collapsed": false
   },
   "outputs": [
    {
     "name": "stdout",
     "output_type": "stream",
     "text": [
      "22.8466584382\n"
     ]
    }
   ],
   "source": [
    "new=pd.DataFrame(boston.data)\n",
    "new.columns = boston.feature_names\n",
    "#new = new.drop('CRIM',axis=1)\n",
    "#new = new.drop('ZN',axis=1)\n",
    "#new = new.drop('INDUS',axis=1)\n",
    "#new = new.drop('CHAS',axis=1)\n",
    "#new = new.drop('NOX',axis=1)\n",
    "new = new.drop('AGE',axis=1)\n",
    "#new = new.drop('DIS',axis=1)\n",
    "new = new.drop('RAD',axis=1)\n",
    "#new = new.drop('TAX',axis=1)\n",
    "#new = new.drop('PTRATIO',axis=1)\n",
    "#new = new.drop('B',axis=1)\n",
    "#new = new.drop('LSTAT',axis=1)\n",
    "#print new.head()\n",
    "\n",
    "\n",
    "lr2 = LinearRegression()\n",
    "lr2.fit(new,tsv.PRICE)\n",
    "print mean_squared_error(lr2.predict(new),tsv.PRICE)"
   ]
  },
  {
   "cell_type": "code",
   "execution_count": 13,
   "metadata": {
    "collapsed": false
   },
   "outputs": [
    {
     "name": "stderr",
     "output_type": "stream",
     "text": [
      "C:\\Users\\lgpc\\Anaconda\\lib\\site-packages\\sklearn\\cross_validation.py:44: DeprecationWarning: This module was deprecated in version 0.18 in favor of the model_selection module into which all the refactored classes and functions are moved. Also note that the interface of the new CV iterators are different from that of this module. This module will be removed in 0.20.\n",
      "  \"This module will be removed in 0.20.\", DeprecationWarning)\n"
     ]
    }
   ],
   "source": [
    "from sklearn.cross_validation import train_test_split\n",
    "from sklearn.cross_validation import *\n",
    "from sklearn import ensemble\n",
    "\n",
    "X_train1, X_test1, y_train1, y_test1 = train_test_split(boston.data, boston.target, test_size=0.3)\n",
    "clf_et=ensemble.ExtraTreesRegressor(n_estimators=10)\n",
    "#train_and_evaluate(clf_et,X_train1,y_train1)\n",
    "clf_et.fit(X_train1,y_train1)\n",
    "cv = KFold(X_train1.shape[0], 5, shuffle=True)"
   ]
  },
  {
   "cell_type": "code",
   "execution_count": 14,
   "metadata": {
    "collapsed": false
   },
   "outputs": [
    {
     "name": "stdout",
     "output_type": "stream",
     "text": [
      "Feature ranking:\n",
      "1. CRIM (0.400815)\n",
      "2. ZN (0.305428)\n",
      "3. INDUS (0.058650)\n",
      "4. CHAS,NOX (0.050391)\n",
      "5. RM (0.043226)\n",
      "6. AGE (0.034116)\n",
      "7. DIS (0.024940)\n",
      "8. RAD (0.019990)\n",
      "9. TAX (0.017937)\n",
      "10. PTRATIO (0.017573)\n",
      "11. B (0.016326)\n",
      "12. LSTAT (0.008136)\n",
      "13. PRICE (0.002470)\n"
     ]
    }
   ],
   "source": [
    "importances = clf_et.feature_importances_\n",
    "std = np.std([tree.feature_importances_ for tree in clf_et.estimators_],\n",
    "             axis=0)\n",
    "indices = np.argsort(importances)[::-1]\n",
    "sf = ['CRIM','ZN','INDUS','CHAS,NOX','RM','AGE','DIS','RAD','TAX','PTRATIO','B','LSTAT','PRICE']\n",
    "# Print the feature ranking\n",
    "print(\"Feature ranking:\")\n",
    "\n",
    "\n",
    "for f in range(X_train1.shape[1]):\n",
    "    print(\"%d. %s (%f)\" % (f + 1, sf[f], importances[indices[f]]))\n",
    "\n"
   ]
  },
  {
   "cell_type": "markdown",
   "metadata": {},
   "source": [
    "## Step 3: Evaluation\n",
    "- Evaluate the performance each models which you <b>imported at step2</b>.\n",
    "- Please choose an evaluation method and apply it on your model. (e.g. separation of test-train set, cross validation, etc.)\n",
    "- Do you think the performance you get is enough? If not, consider how you can improve model performance and apply it on Step 4"
   ]
  },
  {
   "cell_type": "code",
   "execution_count": 15,
   "metadata": {
    "collapsed": true
   },
   "outputs": [],
   "source": [
    "from sklearn.model_selection import train_test_split\n",
    "from sklearn.linear_model import Ridge\n",
    "from sklearn.preprocessing import PolynomialFeatures\n",
    "from sklearn.pipeline import make_pipeline\n",
    "from sklearn.metrics import mean_squared_error"
   ]
  },
  {
   "cell_type": "code",
   "execution_count": 16,
   "metadata": {
    "collapsed": false
   },
   "outputs": [
    {
     "name": "stdout",
     "output_type": "stream",
     "text": [
      "**Linear Regression**\n",
      "MSE - sklearn linear-linear regression; degree= 1 \n",
      "\ttrain:  19.715408821 ,\tval(test):  27.025571262\n",
      "\n",
      "\n",
      "**Random-forest(MSE)**\n",
      "training set :  1.01615981012e-29\n",
      "test set :  12.02875\n"
     ]
    }
   ],
   "source": [
    "deg = 1\n",
    "\n",
    "PolynomialRegression = PolynomialFeatures(deg)\n",
    "#X = tsv['RM']\n",
    "xData = (np.transpose(np.matrix(lr.predict(X))))\n",
    "yData = tsv.PRICE\n",
    "plr = make_pipeline(PolynomialRegression, Ridge())\n",
    "plr.fit(xData,yData)\n",
    "x_train, x_val, y_train, y_val = train_test_split(xData,yData,test_size=0.30)\n",
    "plr.fit(x_train,y_train)\n",
    "print \"**Linear Regression**\"\n",
    "print \"MSE - sklearn linear-linear regression; degree=\", deg,\"\\n\\ttrain: \",mean_squared_error(plr.predict(x_train), y_train), \",\\tval(test): \", mean_squared_error(plr.predict(x_val), y_val)\n",
    "\n",
    "print \"\\n\\n**Random-forest(MSE)**\"\n",
    "print \"training set : \",mean_squared_error(clf_et.predict(X_train1),y_train1)\n",
    "print \"test set : \",mean_squared_error(clf_et.predict(X_test1),y_test1)"
   ]
  },
  {
   "cell_type": "markdown",
   "metadata": {},
   "source": [
    "## Step 4: Enhencement\n",
    "Advice :\n",
    "1. Try <b>feature selection</b>\n",
    "2. <b>Adjust the parameter</b> of the model\n",
    "3. Apply <b>more complex</b> model.<br/>\n",
    "(*For example it would be better to use various models and take average(\"ensemble\") rather then use just a single model.\n",
    "In fact, Random Forest, which is well known ensemble algorithm, gets result by taking average of the result of decision tree models.*)\n",
    "\n",
    "\n",
    "- You do not need to achieve state-of-the-art.\n",
    "- But you need to show a <b>reasonable performance improvement</b>.\n",
    "- Please <b>describe about your design</b> in following markdown cell. (small modifications are okay if there are reasons.)"
   ]
  },
  {
   "cell_type": "code",
   "execution_count": 17,
   "metadata": {
    "collapsed": false
   },
   "outputs": [
    {
     "name": "stdout",
     "output_type": "stream",
     "text": [
      "MSE - Training set; degree= 0 :  80.5801359763\n",
      "MSE - Test set; degree= 0 :  93.7805167148\n",
      "MSE - Training set; degree= 1 :  22.6641391627\n",
      "MSE - Test set; degree= 1 :  20.1314215891\n",
      "MSE - Training set; degree= 2 :  16.1792871228\n",
      "MSE - Test set; degree= 2 :  23.1244084945\n",
      "MSE - Training set; degree= 3 :  20.8417919019\n",
      "MSE - Test set; degree= 3 :  12.1268529367\n",
      "MSE - Training set; degree= 4 :  18.1449825858\n",
      "MSE - Test set; degree= 4 :  19.1206645039\n",
      "MSE - Training set; degree= 5 :  17.1501372973\n",
      "MSE - Test set; degree= 5 :  20.7502492944\n",
      "MSE - Training set; degree= 6 :  14.4828854575\n",
      "MSE - Test set; degree= 6 :  25.6928306813\n",
      "MSE - Training set; degree= 7 :  17.0456491757\n",
      "MSE - Test set; degree= 7 :  20.1119011009\n",
      "MSE - Training set; degree= 8 :  18.7291269451\n",
      "MSE - Test set; degree= 8 :  25.6401817892\n",
      "MSE - Training set; degree= 9 :  19.2451077572\n",
      "MSE - Test set; degree= 9 :  14.0786296169\n"
     ]
    }
   ],
   "source": [
    "#TODO: Try various methods to improve model performance, It is recommended to follow the previous steps[step1-3].\n",
    "for deg in range(10):\n",
    "    #lr1 = LinearRegression(normalize=True)\n",
    "    PolynomialRegression = PolynomialFeatures(deg)\n",
    "    \n",
    "    xData = (np.transpose(np.matrix(lr.predict(X))))\n",
    "    yData = tsv.PRICE\n",
    "    plr = make_pipeline(PolynomialRegression, Ridge())\n",
    "    plr.fit(xData,yData)\n",
    "    \n",
    "    #plr = PolynomialRegression.fit(xData, yData)\n",
    "    \n",
    "    #print plr.predict(xData)[1]\n",
    "    x_train, x_val, y_train, y_val = train_test_split(xData,yData,test_size=0.30)\n",
    "    plr.fit(x_train,y_train)\n",
    "    print \"MSE - Training set; degree=\", deg,\": \", mean_squared_error(plr.predict(x_train), y_train)\n",
    "    print \"MSE - Test set; degree=\", deg,\": \", mean_squared_error(plr.predict(x_val), y_val)\n",
    "    #print mean_squared_error(plr.predict(x_val), y_val)+mean_squared_error(plr.predict(x_train), y_train)"
   ]
  },
  {
   "cell_type": "markdown",
   "metadata": {},
   "source": [
    "### Description about design\n",
    "\n",
    "1. 우선 **coefficient** 를 이용하여 예측하려는 집 값과 가장 관련이 있는 특징을 찾습니다.\n",
    "2. estimated coefficients의 결과를 확인하면, **RM(방의 갯수)이 3.80의 수치로 가장 높은 것**을 확인할 수 있습니다.\n",
    "3. 가장 관련있는 RM만 사용하면 정확도가 높을 것이라고 생각했는데, 예상과 달리 정확도가 매우 낮았습니다.\n",
    "4. 그래서 모든 feature를 이용하여 predict를 해보고, 실제 결과와 비교해 보고자 scatter plot을 그려보았습니다.\n",
    "5. **linear regression**을 이용하기 좋은 모양으로 보이는 결과가 나왔습니다.\n",
    "6. 그래서 이 결과를 토대로 mse를 계산해보니 21.90 정도로 높지 않은 수치가 나왔고,\n",
    "7. 이는 training set만 이용한 결과이기 때문에, 30%정도의 test set으로 구분하여 다시 각각의 mse를 구했습니다.\n",
    "8. 결과는 _(매번 달라지지만)_ training set의 mse는 20.71정도, test set의 mse는 26.60 정도로 나왔습니다.\n",
    "9. Random forest를 한 번 적용해보았는데, **test set의 mse로 본 결과로 큰 차이가 없는 걸 확인**하고, 숙제하면서 계속 사용했던 Linear regression을 그대로 사용하기로 결정하였습니다. (그리고, Random forest를 사용함으로써, feature의 coefficient값이 다르게 나온 것을 확인하였습니다.)\n",
    "10. 좀 더 결과를 향상시키기 위해서 linear가 아닌 poly feature를 도입하여 보았습니다.\n",
    "11. test set으로 나누진 않았지만, **degree가 2~3일 때까지는 mse가 감소하다가 degree가 높아질수록 mse가 증가하는 것**을 볼 수 있었습니다.\n",
    "12. 그리고, random forest를 이용한 model은 random state를 초기화할 때 설정해주면 성능이 향상될 것으로 보입니다."
   ]
  },
  {
   "cell_type": "markdown",
   "metadata": {},
   "source": [
    "## Dataset 2: Breast Cancer\n",
    "\n",
    "* <h3>GOAL</h3>: Predict <b>presence of tumor</b> using biomedical features.\n",
    "\n",
    "> Unlike the first dataset, this dataset is for binary classification problems.<br/>However, since it is made up of biomedical features, you might face some troubles when operating the feature selection.<br/>It could be quite embarrassing, but when you're actually doing data analysis, you will often face  features you do not know."
   ]
  },
  {
   "cell_type": "code",
   "execution_count": 18,
   "metadata": {
    "collapsed": false
   },
   "outputs": [
    {
     "name": "stdout",
     "output_type": "stream",
     "text": [
      "['mean radius' 'mean texture' 'mean perimeter' 'mean area'\n",
      " 'mean smoothness' 'mean compactness' 'mean concavity'\n",
      " 'mean concave points' 'mean symmetry' 'mean fractal dimension'\n",
      " 'radius error' 'texture error' 'perimeter error' 'area error'\n",
      " 'smoothness error' 'compactness error' 'concavity error'\n",
      " 'concave points error' 'symmetry error' 'fractal dimension error'\n",
      " 'worst radius' 'worst texture' 'worst perimeter' 'worst area'\n",
      " 'worst smoothness' 'worst compactness' 'worst concavity'\n",
      " 'worst concave points' 'worst symmetry' 'worst fractal dimension']\n",
      "['malignant' 'benign']\n"
     ]
    }
   ],
   "source": [
    "# Use the following code\n",
    "bc = datasets.load_breast_cancer()\n",
    "print bc['feature_names'] #description for features\n",
    "print bc['target_names']"
   ]
  },
  {
   "cell_type": "markdown",
   "metadata": {},
   "source": [
    "## Follow the steps for Dataset 1 to design and implement an experiment on Breast Cancer dataset.\n",
    "\n",
    "> Likewise, it is <b>not necessary to show great performance</b>, but it must go through an appropriate evaluation method.<br/>\n",
    "<b>A description of the model design</b> should be accompanied."
   ]
  },
  {
   "cell_type": "code",
   "execution_count": 19,
   "metadata": {
    "collapsed": false
   },
   "outputs": [],
   "source": [
    "#TODO: write your code here \n",
    "# (Of course, it would be great to  have a model with good performance. \n",
    "# However, the performance will not affect the grading)\n",
    "X, y = bc['data'], bc['target']"
   ]
  },
  {
   "cell_type": "code",
   "execution_count": 20,
   "metadata": {
    "collapsed": false
   },
   "outputs": [],
   "source": [
    "from sklearn.neighbors import KNeighborsClassifier\n",
    "from sklearn.cross_validation import train_test_split"
   ]
  },
  {
   "cell_type": "code",
   "execution_count": 21,
   "metadata": {
    "collapsed": false
   },
   "outputs": [
    {
     "data": {
      "text/plain": [
       "KNeighborsClassifier(algorithm='auto', leaf_size=30, metric='minkowski',\n",
       "           metric_params=None, n_jobs=1, n_neighbors=10, p=2,\n",
       "           weights='uniform')"
      ]
     },
     "execution_count": 21,
     "metadata": {},
     "output_type": "execute_result"
    }
   ],
   "source": [
    "X_train, X_test, y_train, y_test = train_test_split(X, y, train_size=0.70)\n",
    "clf = KNeighborsClassifier(n_neighbors=10)\n",
    "clf.fit(X_train, y_train)"
   ]
  },
  {
   "cell_type": "code",
   "execution_count": 22,
   "metadata": {
    "collapsed": false
   },
   "outputs": [
    {
     "name": "stdout",
     "output_type": "stream",
     "text": [
      "MSE - Training set :  0.0527638190955\n",
      "MSE - Test set :  0.111111111111\n"
     ]
    }
   ],
   "source": [
    "#print clf.score(X_test, y_test)\n",
    "print \"MSE - Training set : \",mean_squared_error(clf.predict(X_train), y_train)\n",
    "print \"MSE - Test set : \",mean_squared_error(clf.predict(X_test), y_test)"
   ]
  },
  {
   "cell_type": "code",
   "execution_count": 23,
   "metadata": {
    "collapsed": true
   },
   "outputs": [],
   "source": [
    "from sklearn.cross_validation import cross_val_score"
   ]
  },
  {
   "cell_type": "code",
   "execution_count": 24,
   "metadata": {
    "collapsed": false
   },
   "outputs": [],
   "source": [
    "scores = cross_val_score(clf, X, y)"
   ]
  },
  {
   "cell_type": "code",
   "execution_count": 25,
   "metadata": {
    "collapsed": false
   },
   "outputs": [
    {
     "name": "stdout",
     "output_type": "stream",
     "text": [
      "Accuracy: 0.93\n"
     ]
    }
   ],
   "source": [
    "print \"Accuracy: %0.2f\" % (scores.mean())"
   ]
  },
  {
   "cell_type": "markdown",
   "metadata": {},
   "source": [
    "# Description about design\n",
    "1. **k-neighbor classification**을 이용하여 classification을 할 것 입니다.\n",
    "2. 앞서 했던, 집의 가격을 예측하는 것과 달리, panda의 dataframe을 사용하진 않습니다.\n",
    "3. X에 data들을 넣고, y에 우리가 **구별해야하는 결과(카테고리)**를 넣었습니다.\n",
    "4. 앞서 말했듯이 **k-neighbor classification**을 사용하기 위해, **KNeighborsClassifier**를 import하고, neighbor의 값은 제가 임의로 10으로 설정하였습니다. _(defalut는 5인데, sample의 수에 비해서 적다고 생각했습니다.)_\n",
    "5. 모델을 평가하기 위한 training set과 test set을 나누기 위해 **train_test_split**을 import하였습니다.\n",
    "6. training size는 전체의 70%로, test size는 전체의 30%로 잡았습니다.\n",
    "7. KNeighborsClassifier에 fit하도록 training set의 X와 y를 넣었고, test를 한 뒤 **mean squared error**를 계산해보니, linear regression보다 훨씬 적은 (*당연하지만*) 수치가 나왔습니다.\n",
    "8. Cross Validation set을 추가하여 scores를 통해 accuracy를 구할 수 있었습니다.\n",
    "9. Accuracy도 91~92%로 괜찮게 나왔습니다."
   ]
  }
 ],
 "metadata": {
  "kernelspec": {
   "display_name": "Python 2",
   "language": "python",
   "name": "python2"
  },
  "language_info": {
   "codemirror_mode": {
    "name": "ipython",
    "version": 2
   },
   "file_extension": ".py",
   "mimetype": "text/x-python",
   "name": "python",
   "nbconvert_exporter": "python",
   "pygments_lexer": "ipython2",
   "version": "2.7.13"
  }
 },
 "nbformat": 4,
 "nbformat_minor": 2
}
